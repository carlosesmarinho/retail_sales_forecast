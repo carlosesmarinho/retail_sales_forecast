{
 "cells": [
  {
   "cell_type": "markdown",
   "id": "fee3ce77",
   "metadata": {
    "id": "fee3ce77"
   },
   "source": [
    "# retail_sales_forecast"
   ]
  },
  {
   "cell_type": "markdown",
   "id": "a1b94d3a",
   "metadata": {
    "id": "a1b94d3a"
   },
   "source": [
    "## Imports"
   ]
  },
  {
   "cell_type": "code",
   "execution_count": 4,
   "id": "57199c7a",
   "metadata": {
    "id": "57199c7a"
   },
   "outputs": [],
   "source": [
    "import pandas as pd\n",
    "import numpy as np\n",
    "import matplotlib.pyplot as plt\n",
    "import seaborn as sns\n",
    "from sklearn.compose import ColumnTransformer\n",
    "from sklearn.pipeline import make_pipeline\n",
    "from sklearn.preprocessing import RobustScaler, MinMaxScaler,OneHotEncoder,FunctionTransformer\n",
    "import os\n",
    "from sklearn.model_selection import train_test_split\n",
    "from tensorflow.keras.models import Sequential\n",
    "from tensorflow.keras import layers\n",
    "from tensorflow.keras.layers import LSTM, GRU, Dense, SimpleRNN, Flatten,Dropout\n",
    "from tensorflow.keras.optimizers import Adam, RMSprop\n",
    "from tensorflow.keras.callbacks import EarlyStopping\n",
    "from sklearn.metrics import mean_squared_log_error, mean_absolute_error\n"
   ]
  },
  {
   "cell_type": "code",
   "execution_count": 5,
   "id": "19a93ee4",
   "metadata": {
    "id": "19a93ee4"
   },
   "outputs": [],
   "source": [
    "pd.set_option(\"display.float_format\", \"{:,.2f}\".format)"
   ]
  },
  {
   "cell_type": "markdown",
   "id": "39ec6f32-ecae-4b23-b00a-d1d0c647c86f",
   "metadata": {
    "id": "39ec6f32-ecae-4b23-b00a-d1d0c647c86f"
   },
   "source": [
    "## Importação da Base"
   ]
  },
  {
   "cell_type": "code",
   "execution_count": 6,
   "id": "61f690c2-b3a8-4651-a2c5-7c1919e3427f",
   "metadata": {
    "colab": {
     "base_uri": "https://localhost:8080/"
    },
    "id": "61f690c2-b3a8-4651-a2c5-7c1919e3427f",
    "outputId": "f6fb1c7c-b2d7-4af7-e5ec-f094ca0a3b57"
   },
   "outputs": [],
   "source": [
    "# Google Colab\n",
    "#from google.colab import drive\n",
    "#drive.mount('/content/drive', force_remount=True)\n",
    "# os.chdir allows you to change directories, like cd in the Terminal\n",
    "#os.chdir('/content/drive/MyDrive/Colab Notebooks/retail_sales_forecast')\n",
    "\n",
    "df_data = pd.read_parquet('df_merged.parquet')"
   ]
  },
  {
   "cell_type": "code",
   "execution_count": 7,
   "id": "24a51fc2-b00c-4493-b696-d82b6164bd7e",
   "metadata": {
    "colab": {
     "base_uri": "https://localhost:8080/",
     "height": 459
    },
    "id": "24a51fc2-b00c-4493-b696-d82b6164bd7e",
    "outputId": "604e909b-e377-4bb1-9d93-bef43eb320a0"
   },
   "outputs": [
    {
     "name": "stdout",
     "output_type": "stream",
     "text": [
      "shape: (3000888, 13)\n"
     ]
    },
    {
     "data": {
      "text/html": [
       "<div>\n",
       "<style scoped>\n",
       "    .dataframe tbody tr th:only-of-type {\n",
       "        vertical-align: middle;\n",
       "    }\n",
       "\n",
       "    .dataframe tbody tr th {\n",
       "        vertical-align: top;\n",
       "    }\n",
       "\n",
       "    .dataframe thead th {\n",
       "        text-align: right;\n",
       "    }\n",
       "</style>\n",
       "<table border=\"1\" class=\"dataframe\">\n",
       "  <thead>\n",
       "    <tr style=\"text-align: right;\">\n",
       "      <th></th>\n",
       "      <th>id</th>\n",
       "      <th>date</th>\n",
       "      <th>store_nbr</th>\n",
       "      <th>family</th>\n",
       "      <th>sales</th>\n",
       "      <th>onpromotion</th>\n",
       "      <th>city</th>\n",
       "      <th>state</th>\n",
       "      <th>type</th>\n",
       "      <th>cluster</th>\n",
       "      <th>holiday</th>\n",
       "      <th>transactions</th>\n",
       "      <th>dcoilwtico</th>\n",
       "    </tr>\n",
       "  </thead>\n",
       "  <tbody>\n",
       "  </tbody>\n",
       "</table>\n",
       "</div>"
      ],
      "text/plain": [
       "Empty DataFrame\n",
       "Columns: [id, date, store_nbr, family, sales, onpromotion, city, state, type, cluster, holiday, transactions, dcoilwtico]\n",
       "Index: []"
      ]
     },
     "metadata": {},
     "output_type": "display_data"
    },
    {
     "name": "stdout",
     "output_type": "stream",
     "text": [
      "<class 'pandas.core.frame.DataFrame'>\n",
      "RangeIndex: 3000888 entries, 0 to 3000887\n",
      "Data columns (total 13 columns):\n",
      " #   Column        Dtype         \n",
      "---  ------        -----         \n",
      " 0   id            int64         \n",
      " 1   date          datetime64[ns]\n",
      " 2   store_nbr     int64         \n",
      " 3   family        object        \n",
      " 4   sales         float64       \n",
      " 5   onpromotion   float64       \n",
      " 6   city          object        \n",
      " 7   state         object        \n",
      " 8   type          object        \n",
      " 9   cluster       object        \n",
      " 10  holiday       object        \n",
      " 11  transactions  float64       \n",
      " 12  dcoilwtico    float64       \n",
      "dtypes: datetime64[ns](1), float64(4), int64(2), object(6)\n",
      "memory usage: 297.6+ MB\n",
      "None\n"
     ]
    }
   ],
   "source": [
    "print(f'shape: {df_data.shape}')\n",
    "display(df_data.head(0))\n",
    "print(df_data.info())"
   ]
  },
  {
   "cell_type": "code",
   "execution_count": 8,
   "id": "1f6bb2c1-e66f-4474-a769-959b2da5e837",
   "metadata": {
    "id": "1f6bb2c1-e66f-4474-a769-959b2da5e837"
   },
   "outputs": [],
   "source": [
    "df_data['chave'] = df_data['store_nbr'].astype('str') + df_data['family']\n",
    "df_data['holiday'] = df_data['holiday'].astype('str')\n"
   ]
  },
  {
   "cell_type": "code",
   "execution_count": 9,
   "id": "593cb049-25dc-407e-bbed-1317f6c37a9a",
   "metadata": {
    "colab": {
     "base_uri": "https://localhost:8080/"
    },
    "id": "593cb049-25dc-407e-bbed-1317f6c37a9a",
    "outputId": "aaaa631c-8fbb-4e09-e9ff-ff8409f64046"
   },
   "outputs": [
    {
     "name": "stdout",
     "output_type": "stream",
     "text": [
      "n_sequences: 1782\n"
     ]
    }
   ],
   "source": [
    "# Number of sequences:\n",
    "df_sequences = df_data['chave'].drop_duplicates()\n",
    "n_sequences = df_sequences.count()\n",
    "print(f'n_sequences: {n_sequences}')"
   ]
  },
  {
   "cell_type": "code",
   "execution_count": 10,
   "id": "86753b8e-c342-449e-a4ca-80c11c447411",
   "metadata": {
    "colab": {
     "base_uri": "https://localhost:8080/",
     "height": 155
    },
    "id": "86753b8e-c342-449e-a4ca-80c11c447411",
    "outputId": "161fd64a-1e80-49fd-e686-ff8dc4be4bcf"
   },
   "outputs": [
    {
     "name": "stdout",
     "output_type": "stream",
     "text": [
      "chave com quantidade de observações diferentes de 1684:\n"
     ]
    },
    {
     "data": {
      "text/html": [
       "<div>\n",
       "<style scoped>\n",
       "    .dataframe tbody tr th:only-of-type {\n",
       "        vertical-align: middle;\n",
       "    }\n",
       "\n",
       "    .dataframe tbody tr th {\n",
       "        vertical-align: top;\n",
       "    }\n",
       "\n",
       "    .dataframe thead th {\n",
       "        text-align: right;\n",
       "    }\n",
       "</style>\n",
       "<table border=\"1\" class=\"dataframe\">\n",
       "  <thead>\n",
       "    <tr style=\"text-align: right;\">\n",
       "      <th></th>\n",
       "      <th>sales</th>\n",
       "    </tr>\n",
       "    <tr>\n",
       "      <th>chave</th>\n",
       "      <th></th>\n",
       "    </tr>\n",
       "  </thead>\n",
       "  <tbody>\n",
       "  </tbody>\n",
       "</table>\n",
       "</div>"
      ],
      "text/plain": [
       "Empty DataFrame\n",
       "Columns: [sales]\n",
       "Index: []"
      ]
     },
     "metadata": {},
     "output_type": "display_data"
    },
    {
     "name": "stdout",
     "output_type": "stream",
     "text": [
      "\n",
      "\n",
      "n_observations: 1684\n"
     ]
    }
   ],
   "source": [
    "# Number of observations:\n",
    "n_observations = df_data.groupby('chave')[['sales']].count()\n",
    "print(f'chave com quantidade de observações diferentes de {n_observations.iloc[0,0]}:')\n",
    "display(n_observations[n_observations['sales']!=n_observations.iloc[0,0]])\n",
    "n_observations = n_observations.iloc[0,0]\n",
    "print('\\n')\n",
    "print(f'n_observations: {n_observations}')"
   ]
  },
  {
   "cell_type": "code",
   "execution_count": 11,
   "id": "3873df44-3cd7-4690-9c94-609f185b3535",
   "metadata": {
    "colab": {
     "base_uri": "https://localhost:8080/"
    },
    "id": "3873df44-3cd7-4690-9c94-609f185b3535",
    "outputId": "986e2240-074f-4d12-b5b3-7ece7490f25d"
   },
   "outputs": [
    {
     "name": "stdout",
     "output_type": "stream",
     "text": [
      "columns: Index(['id', 'date', 'store_nbr', 'family', 'sales', 'onpromotion', 'city',\n",
      "       'state', 'type', 'cluster', 'holiday', 'transactions', 'dcoilwtico',\n",
      "       'chave'],\n",
      "      dtype='object')\n",
      "features: ['sales', 'onpromotion', 'city', 'state', 'type', 'cluster', 'holiday', 'dcoilwtico', 'transactions']\n",
      "n_features: 9\n"
     ]
    }
   ],
   "source": [
    "# Number of features:\n",
    "print(f'columns: {df_data.columns}')\n",
    "features = ['sales','onpromotion', 'city', 'state', 'type', 'cluster', 'holiday', 'dcoilwtico', 'transactions']\n",
    "print(f'features: {features}')\n",
    "n_features = len(features)\n",
    "print(f'n_features: {n_features}')"
   ]
  },
  {
   "cell_type": "markdown",
   "id": "67b05aed-5466-425a-8b45-1060d7b97ba6",
   "metadata": {
    "id": "67b05aed-5466-425a-8b45-1060d7b97ba6"
   },
   "source": [
    "## Seleção de amostras para teste\n",
    "###### Redução de tempo de processamento para validação de modelo"
   ]
  },
  {
   "cell_type": "code",
   "execution_count": 12,
   "id": "bae44226-3669-4a08-a84b-211d024c76f4",
   "metadata": {
    "colab": {
     "base_uri": "https://localhost:8080/",
     "height": 363
    },
    "id": "bae44226-3669-4a08-a84b-211d024c76f4",
    "outputId": "cffdc7c7-0846-4262-bc94-245bf3b84ba9"
   },
   "outputs": [
    {
     "data": {
      "text/html": [
       "<div>\n",
       "<style scoped>\n",
       "    .dataframe tbody tr th:only-of-type {\n",
       "        vertical-align: middle;\n",
       "    }\n",
       "\n",
       "    .dataframe tbody tr th {\n",
       "        vertical-align: top;\n",
       "    }\n",
       "\n",
       "    .dataframe thead th {\n",
       "        text-align: right;\n",
       "    }\n",
       "</style>\n",
       "<table border=\"1\" class=\"dataframe\">\n",
       "  <thead>\n",
       "    <tr style=\"text-align: right;\">\n",
       "      <th></th>\n",
       "      <th>chave</th>\n",
       "    </tr>\n",
       "  </thead>\n",
       "  <tbody>\n",
       "    <tr>\n",
       "      <th>0</th>\n",
       "      <td>44GROCERY I</td>\n",
       "    </tr>\n",
       "    <tr>\n",
       "      <th>1</th>\n",
       "      <td>45GROCERY I</td>\n",
       "    </tr>\n",
       "    <tr>\n",
       "      <th>2</th>\n",
       "      <td>47GROCERY I</td>\n",
       "    </tr>\n",
       "    <tr>\n",
       "      <th>3</th>\n",
       "      <td>46GROCERY I</td>\n",
       "    </tr>\n",
       "    <tr>\n",
       "      <th>4</th>\n",
       "      <td>44BEVERAGES</td>\n",
       "    </tr>\n",
       "    <tr>\n",
       "      <th>5</th>\n",
       "      <td>3GROCERY I</td>\n",
       "    </tr>\n",
       "    <tr>\n",
       "      <th>6</th>\n",
       "      <td>48GROCERY I</td>\n",
       "    </tr>\n",
       "    <tr>\n",
       "      <th>7</th>\n",
       "      <td>45BEVERAGES</td>\n",
       "    </tr>\n",
       "    <tr>\n",
       "      <th>8</th>\n",
       "      <td>3BEVERAGES</td>\n",
       "    </tr>\n",
       "    <tr>\n",
       "      <th>9</th>\n",
       "      <td>49GROCERY I</td>\n",
       "    </tr>\n",
       "  </tbody>\n",
       "</table>\n",
       "</div>"
      ],
      "text/plain": [
       "         chave\n",
       "0  44GROCERY I\n",
       "1  45GROCERY I\n",
       "2  47GROCERY I\n",
       "3  46GROCERY I\n",
       "4  44BEVERAGES\n",
       "5   3GROCERY I\n",
       "6  48GROCERY I\n",
       "7  45BEVERAGES\n",
       "8   3BEVERAGES\n",
       "9  49GROCERY I"
      ]
     },
     "execution_count": 12,
     "metadata": {},
     "output_type": "execute_result"
    }
   ],
   "source": [
    "# Seleção de top n sequencias para teste do modelo:\n",
    "\n",
    "n = 10\n",
    "df_sequences = df_data.groupby('chave')[['sales']].sum().sort_values(by='sales', ascending=False).head(n)\n",
    "df_sequences = df_sequences.reset_index().drop(columns='sales')\n",
    "df_sequences"
   ]
  },
  {
   "cell_type": "code",
   "execution_count": 13,
   "id": "1c4c3581-47f1-4b3f-89bc-0d9ed9fd7aba",
   "metadata": {
    "colab": {
     "base_uri": "https://localhost:8080/"
    },
    "id": "1c4c3581-47f1-4b3f-89bc-0d9ed9fd7aba",
    "outputId": "dd0fb1c1-4632-49bb-dabe-985018a9b159"
   },
   "outputs": [
    {
     "name": "stdout",
     "output_type": "stream",
     "text": [
      "(16840, 14)\n"
     ]
    }
   ],
   "source": [
    "# Seleção das amostras\n",
    "for sequence in df_sequences['chave']:\n",
    "    df_data.loc[df_data['chave'] == sequence, 'chave_aux'] = 'x'\n",
    "\n",
    "df_data = df_data[df_data['chave_aux'] == 'x']\n",
    "df_data.drop(columns = 'chave_aux', inplace = True)\n",
    "print(df_data.shape)"
   ]
  },
  {
   "cell_type": "code",
   "execution_count": 14,
   "id": "sBJRa6KvO0m2",
   "metadata": {
    "colab": {
     "base_uri": "https://localhost:8080/"
    },
    "id": "sBJRa6KvO0m2",
    "outputId": "dbc6671f-d125-42cc-8fda-89eb762d0045"
   },
   "outputs": [
    {
     "name": "stdout",
     "output_type": "stream",
     "text": [
      "X_train shape: (13970, 120, 11)\n",
      "X_test shape: (170, 120, 11)\n",
      "y_train shape: (13970, 16)\n",
      "y_test shape: (170, 16)\n"
     ]
    }
   ],
   "source": [
    "# 🔹 Garantir ordenação correta por respeitando ordenação do df_sequences e data\n",
    "ordem = df_sequences['chave'].tolist()\n",
    "df_data['ordem_personalizada'] = df_data['chave'].apply(lambda x: ordem.index(x))\n",
    "df_data = df_data.sort_values(by=['ordem_personalizada', 'date']).drop(columns='ordem_personalizada')\n",
    "#df_data['date'] = df_data['date'].astype('str')\n",
    "df_data_input = df_data.copy(deep=True)\n",
    "\n",
    "# 🔹 Parâmetros da Janela Temporal\n",
    "WINDOW_SIZE = 120  # Número de dias usados como entrada\n",
    "TARGET_DAYS = 16   # Número de dias a serem previstos\n",
    "TRAIN_SPLIT = 0.91 # 80% treino, 20% teste\n",
    "\n",
    "# 🔹 Criar função para gerar sequências de tempo\n",
    "def create_sequences(data, window_size, target_days, target_column_idx):\n",
    "    X, y = [], []\n",
    "    for i in range(len(data) - window_size - target_days + 1):\n",
    "        X.append(data[i:i+window_size])\n",
    "        y.append(data[i + window_size : i + window_size + target_days, target_column_idx])\n",
    "\n",
    "    return np.array(X), np.array(y)\n",
    "\n",
    "# 🔹 Separação de treino/teste por loja e família\n",
    "X_train_list, X_test_list, y_train_list, y_test_list = [], [], [], []\n",
    "\n",
    "# 🔹 Definir colunas numéricas e categóricas\n",
    "y_col = [\"sales\"]\n",
    "num_cols = [\"onpromotion\", \"dcoilwtico\",\"transactions\"]\n",
    "cat_cols = [\"type\", \"city\", \"cluster\", \"holiday\"]\n",
    "\n",
    "# 🔹 Separar dados de treino e teste por chave (store_nbr + family)\n",
    "df_train_list, df_test_list = [], []\n",
    "\n",
    "store_family_groups = df_data_input.groupby([\"store_nbr\", \"family\"], sort = False)\n",
    "for _, group in store_family_groups: # exemplo do output: (3, 'BEVERAGES'), dataframe\n",
    "    group = group.sort_values(\"date\")  # Garantir ordem temporal\n",
    "\n",
    "    # Índice de separação (80% treino, 20% teste) garantindo sequência correta\n",
    "    split_index = int(len(group) * TRAIN_SPLIT)\n",
    "\n",
    "    df_train_list.append(group.iloc[:split_index])\n",
    "    df_test_list.append(group.iloc[split_index:])\n",
    "\n",
    "# 🔹 Concatenar para criar df_train e df_test final\n",
    "df_train = pd.concat(df_train_list) # dataset com 80% das primeiras observações no treino\n",
    "df_test = pd.concat(df_test_list) # dataset com 20% das observações no teste\n",
    "\n",
    "'''\n",
    "Como estou pre.fit somente no treino, a existencia das categorias no teste poderia ser um problema. Mas não são pois estou fazendo a divisão em treino e teste somente\n",
    "nas observações dentro de cada chave. Cada chave possui um mesmo type, city e clustes. Holiday que pode vir a mudar, mas certamente teremos holidays e não holidays no\n",
    "treino. Portanto, não deveria haver problema.\n",
    "'''\n",
    "\n",
    "# 🔹 Criar um pré-processador e ajustar **somente no conjunto de treino**\n",
    "preprocessor = ColumnTransformer([\n",
    "    (\"y_col\", RobustScaler(), y_col),\n",
    "    (\"num_cols\", RobustScaler(), num_cols),\n",
    "    (\"cat_cols\", OneHotEncoder(drop=\"if_binary\", handle_unknown=\"ignore\", sparse_output=False), cat_cols)\n",
    "])\n",
    "\n",
    "preprocessor.fit(df_train[y_col + num_cols + cat_cols])  # .fit do preprocessamento apenas no treino\n",
    "\n",
    "# 🔹 Obter nomes das features transformadas\n",
    "feature_names = (\n",
    "    preprocessor.named_transformers_[\"y_col\"].get_feature_names_out(y_col).tolist() +\n",
    "    preprocessor.named_transformers_[\"num_cols\"].get_feature_names_out(num_cols).tolist() +\n",
    "    preprocessor.named_transformers_[\"cat_cols\"].get_feature_names_out(cat_cols).tolist()\n",
    ")\n",
    "target_column_idx = feature_names.index(\"sales\")  # Localizar índice de \"sales\" para depois buscar pelo index no y\n",
    "\n",
    "# 🔹 Criar sequências de treinamento e teste\n",
    "store_family_groups_train = df_train.groupby([\"store_nbr\", \"family\"],sort = False)\n",
    "store_family_groups_test = df_test.groupby([\"store_nbr\", \"family\"], sort = False)\n",
    "\n",
    "for (_, train_group), (_, test_group) in zip(store_family_groups_train, store_family_groups_test): # junto as tuplas transformadas em um unico dataset\n",
    "    # Garantir que ambos os conjuntos estão ordenados corretamente\n",
    "    train_group = train_group.sort_values(\"date\")\n",
    "    test_group = test_group.sort_values(\"date\")\n",
    "\n",
    "    # Transformar os dados já normalizados\n",
    "    train_features = preprocessor.transform(train_group[y_col + num_cols + cat_cols])\n",
    "    test_features = preprocessor.transform(test_group[y_col + num_cols + cat_cols])\n",
    "\n",
    "    # Criar sequências para treino e teste\n",
    "    X_train_seq, y_train_seq = create_sequences(train_features, WINDOW_SIZE, TARGET_DAYS, target_column_idx)\n",
    "    X_test_seq, y_test_seq = create_sequences(test_features, WINDOW_SIZE, TARGET_DAYS, target_column_idx)\n",
    "\n",
    "    X_train_list.append(X_train_seq)\n",
    "    X_test_list.append(X_test_seq)\n",
    "    y_train_list.append(y_train_seq)\n",
    "    y_test_list.append(y_test_seq)\n",
    "\n",
    "# 🔹 Concatenar todas as séries\n",
    "X_train = np.vstack(X_train_list)\n",
    "X_test = np.vstack(X_test_list)\n",
    "y_train = np.vstack(y_train_list)\n",
    "y_test = np.vstack(y_test_list)\n",
    "\n",
    "# 🔹 Exibir dimensões finais\n",
    "print(f\"X_train shape: {X_train.shape}\")\n",
    "print(f\"X_test shape: {X_test.shape}\")\n",
    "print(f\"y_train shape: {y_train.shape}\")\n",
    "print(f\"y_test shape: {y_test.shape}\")\n"
   ]
  },
  {
   "cell_type": "code",
   "execution_count": 143,
   "id": "54279aea-6bfb-47f2-b834-694f0b8e04e0",
   "metadata": {
    "colab": {
     "base_uri": "https://localhost:8080/",
     "height": 423
    },
    "id": "54279aea-6bfb-47f2-b834-694f0b8e04e0",
    "outputId": "27205564-45db-4aaa-c6ae-b90d071b54da"
   },
   "outputs": [
    {
     "name": "stdout",
     "output_type": "stream",
     "text": [
      "1396\n"
     ]
    },
    {
     "data": {
      "text/html": [
       "<div>\n",
       "<style scoped>\n",
       "    .dataframe tbody tr th:only-of-type {\n",
       "        vertical-align: middle;\n",
       "    }\n",
       "\n",
       "    .dataframe tbody tr th {\n",
       "        vertical-align: top;\n",
       "    }\n",
       "\n",
       "    .dataframe thead th {\n",
       "        text-align: right;\n",
       "    }\n",
       "</style>\n",
       "<table border=\"1\" class=\"dataframe\">\n",
       "  <thead>\n",
       "    <tr style=\"text-align: right;\">\n",
       "      <th></th>\n",
       "      <th>y_col__sales</th>\n",
       "      <th>num_cols__onpromotion</th>\n",
       "      <th>num_cols__dcoilwtico</th>\n",
       "      <th>num_cols__transactions</th>\n",
       "      <th>cat_cols__type_D</th>\n",
       "      <th>cat_cols__city_Quito</th>\n",
       "      <th>cat_cols__cluster_11</th>\n",
       "      <th>cat_cols__cluster_14</th>\n",
       "      <th>cat_cols__cluster_5</th>\n",
       "      <th>cat_cols__cluster_8</th>\n",
       "      <th>cat_cols__holiday_1.0</th>\n",
       "    </tr>\n",
       "  </thead>\n",
       "  <tbody>\n",
       "    <tr>\n",
       "      <th>0</th>\n",
       "      <td>0.39</td>\n",
       "      <td>2.89</td>\n",
       "      <td>-0.23</td>\n",
       "      <td>0.30</td>\n",
       "      <td>0.00</td>\n",
       "      <td>1.00</td>\n",
       "      <td>0.00</td>\n",
       "      <td>0.00</td>\n",
       "      <td>1.00</td>\n",
       "      <td>0.00</td>\n",
       "      <td>0.00</td>\n",
       "    </tr>\n",
       "    <tr>\n",
       "      <th>1</th>\n",
       "      <td>0.73</td>\n",
       "      <td>2.89</td>\n",
       "      <td>-0.23</td>\n",
       "      <td>0.71</td>\n",
       "      <td>0.00</td>\n",
       "      <td>1.00</td>\n",
       "      <td>0.00</td>\n",
       "      <td>0.00</td>\n",
       "      <td>1.00</td>\n",
       "      <td>0.00</td>\n",
       "      <td>0.00</td>\n",
       "    </tr>\n",
       "    <tr>\n",
       "      <th>2</th>\n",
       "      <td>1.94</td>\n",
       "      <td>3.33</td>\n",
       "      <td>-0.26</td>\n",
       "      <td>1.68</td>\n",
       "      <td>0.00</td>\n",
       "      <td>1.00</td>\n",
       "      <td>0.00</td>\n",
       "      <td>0.00</td>\n",
       "      <td>1.00</td>\n",
       "      <td>0.00</td>\n",
       "      <td>1.00</td>\n",
       "    </tr>\n",
       "    <tr>\n",
       "      <th>3</th>\n",
       "      <td>0.89</td>\n",
       "      <td>3.37</td>\n",
       "      <td>-0.27</td>\n",
       "      <td>0.67</td>\n",
       "      <td>0.00</td>\n",
       "      <td>1.00</td>\n",
       "      <td>0.00</td>\n",
       "      <td>0.00</td>\n",
       "      <td>1.00</td>\n",
       "      <td>0.00</td>\n",
       "      <td>1.00</td>\n",
       "    </tr>\n",
       "    <tr>\n",
       "      <th>4</th>\n",
       "      <td>1.35</td>\n",
       "      <td>3.15</td>\n",
       "      <td>-0.28</td>\n",
       "      <td>0.87</td>\n",
       "      <td>0.00</td>\n",
       "      <td>1.00</td>\n",
       "      <td>0.00</td>\n",
       "      <td>0.00</td>\n",
       "      <td>1.00</td>\n",
       "      <td>0.00</td>\n",
       "      <td>1.00</td>\n",
       "    </tr>\n",
       "    <tr>\n",
       "      <th>...</th>\n",
       "      <td>...</td>\n",
       "      <td>...</td>\n",
       "      <td>...</td>\n",
       "      <td>...</td>\n",
       "      <td>...</td>\n",
       "      <td>...</td>\n",
       "      <td>...</td>\n",
       "      <td>...</td>\n",
       "      <td>...</td>\n",
       "      <td>...</td>\n",
       "      <td>...</td>\n",
       "    </tr>\n",
       "    <tr>\n",
       "      <th>115</th>\n",
       "      <td>0.83</td>\n",
       "      <td>2.63</td>\n",
       "      <td>-0.08</td>\n",
       "      <td>0.99</td>\n",
       "      <td>0.00</td>\n",
       "      <td>1.00</td>\n",
       "      <td>0.00</td>\n",
       "      <td>0.00</td>\n",
       "      <td>1.00</td>\n",
       "      <td>0.00</td>\n",
       "      <td>0.00</td>\n",
       "    </tr>\n",
       "    <tr>\n",
       "      <th>116</th>\n",
       "      <td>1.40</td>\n",
       "      <td>2.63</td>\n",
       "      <td>-0.08</td>\n",
       "      <td>1.05</td>\n",
       "      <td>0.00</td>\n",
       "      <td>1.00</td>\n",
       "      <td>0.00</td>\n",
       "      <td>0.00</td>\n",
       "      <td>1.00</td>\n",
       "      <td>0.00</td>\n",
       "      <td>0.00</td>\n",
       "    </tr>\n",
       "    <tr>\n",
       "      <th>117</th>\n",
       "      <td>0.89</td>\n",
       "      <td>2.48</td>\n",
       "      <td>-0.08</td>\n",
       "      <td>0.39</td>\n",
       "      <td>0.00</td>\n",
       "      <td>1.00</td>\n",
       "      <td>0.00</td>\n",
       "      <td>0.00</td>\n",
       "      <td>1.00</td>\n",
       "      <td>0.00</td>\n",
       "      <td>0.00</td>\n",
       "    </tr>\n",
       "    <tr>\n",
       "      <th>118</th>\n",
       "      <td>0.82</td>\n",
       "      <td>2.59</td>\n",
       "      <td>-0.08</td>\n",
       "      <td>0.47</td>\n",
       "      <td>0.00</td>\n",
       "      <td>1.00</td>\n",
       "      <td>0.00</td>\n",
       "      <td>0.00</td>\n",
       "      <td>1.00</td>\n",
       "      <td>0.00</td>\n",
       "      <td>1.00</td>\n",
       "    </tr>\n",
       "    <tr>\n",
       "      <th>119</th>\n",
       "      <td>1.74</td>\n",
       "      <td>2.74</td>\n",
       "      <td>-0.08</td>\n",
       "      <td>1.02</td>\n",
       "      <td>0.00</td>\n",
       "      <td>1.00</td>\n",
       "      <td>0.00</td>\n",
       "      <td>0.00</td>\n",
       "      <td>1.00</td>\n",
       "      <td>0.00</td>\n",
       "      <td>1.00</td>\n",
       "    </tr>\n",
       "  </tbody>\n",
       "</table>\n",
       "<p>120 rows × 11 columns</p>\n",
       "</div>"
      ],
      "text/plain": [
       "     y_col__sales  num_cols__onpromotion  num_cols__dcoilwtico  \\\n",
       "0            0.39                   2.89                 -0.23   \n",
       "1            0.73                   2.89                 -0.23   \n",
       "2            1.94                   3.33                 -0.26   \n",
       "3            0.89                   3.37                 -0.27   \n",
       "4            1.35                   3.15                 -0.28   \n",
       "..            ...                    ...                   ...   \n",
       "115          0.83                   2.63                 -0.08   \n",
       "116          1.40                   2.63                 -0.08   \n",
       "117          0.89                   2.48                 -0.08   \n",
       "118          0.82                   2.59                 -0.08   \n",
       "119          1.74                   2.74                 -0.08   \n",
       "\n",
       "     num_cols__transactions  cat_cols__type_D  cat_cols__city_Quito  \\\n",
       "0                      0.30              0.00                  1.00   \n",
       "1                      0.71              0.00                  1.00   \n",
       "2                      1.68              0.00                  1.00   \n",
       "3                      0.67              0.00                  1.00   \n",
       "4                      0.87              0.00                  1.00   \n",
       "..                      ...               ...                   ...   \n",
       "115                    0.99              0.00                  1.00   \n",
       "116                    1.05              0.00                  1.00   \n",
       "117                    0.39              0.00                  1.00   \n",
       "118                    0.47              0.00                  1.00   \n",
       "119                    1.02              0.00                  1.00   \n",
       "\n",
       "     cat_cols__cluster_11  cat_cols__cluster_14  cat_cols__cluster_5  \\\n",
       "0                    0.00                  0.00                 1.00   \n",
       "1                    0.00                  0.00                 1.00   \n",
       "2                    0.00                  0.00                 1.00   \n",
       "3                    0.00                  0.00                 1.00   \n",
       "4                    0.00                  0.00                 1.00   \n",
       "..                    ...                   ...                  ...   \n",
       "115                  0.00                  0.00                 1.00   \n",
       "116                  0.00                  0.00                 1.00   \n",
       "117                  0.00                  0.00                 1.00   \n",
       "118                  0.00                  0.00                 1.00   \n",
       "119                  0.00                  0.00                 1.00   \n",
       "\n",
       "     cat_cols__cluster_8  cat_cols__holiday_1.0  \n",
       "0                   0.00                   0.00  \n",
       "1                   0.00                   0.00  \n",
       "2                   0.00                   1.00  \n",
       "3                   0.00                   1.00  \n",
       "4                   0.00                   1.00  \n",
       "..                   ...                    ...  \n",
       "115                 0.00                   0.00  \n",
       "116                 0.00                   0.00  \n",
       "117                 0.00                   0.00  \n",
       "118                 0.00                   1.00  \n",
       "119                 0.00                   1.00  \n",
       "\n",
       "[120 rows x 11 columns]"
      ]
     },
     "execution_count": 143,
     "metadata": {},
     "output_type": "execute_result"
    }
   ],
   "source": [
    "# do ~end_sequence~ para o ~end_sequence+1~, se muda a chave considerada, ou seja, caminha-se pelas 1684 observações e vai de uma chave para a outra\n",
    "end_sequence = len(train_features) - WINDOW_SIZE - TARGET_DAYS\n",
    "print(end_sequence)\n",
    "pd.DataFrame(X_train[end_sequence,:,:], columns = preprocessor.get_feature_names_out())"
   ]
  },
  {
   "cell_type": "markdown",
   "id": "ihL3iukoL_NA",
   "metadata": {
    "id": "ihL3iukoL_NA"
   },
   "source": [
    "### Modelo 01"
   ]
  },
  {
   "cell_type": "code",
   "execution_count": 16,
   "id": "b0113feb-a704-4b4a-ba53-a8bf2fd4559d",
   "metadata": {
    "id": "b0113feb-a704-4b4a-ba53-a8bf2fd4559d"
   },
   "outputs": [],
   "source": [
    "n_epochs = 2\n",
    "n_patience = 5\n",
    "n_batch_size = 32"
   ]
  },
  {
   "cell_type": "code",
   "execution_count": 17,
   "id": "e55479e0-76e2-4920-b887-3811e156e9ad",
   "metadata": {
    "colab": {
     "base_uri": "https://localhost:8080/"
    },
    "id": "e55479e0-76e2-4920-b887-3811e156e9ad",
    "outputId": "0a3485ca-fb8e-45de-b835-7b6043749b0e"
   },
   "outputs": [
    {
     "name": "stderr",
     "output_type": "stream",
     "text": [
      "2025-04-08 12:28:20.304769: E external/local_xla/xla/stream_executor/cuda/cuda_platform.cc:51] failed call to cuInit: INTERNAL: CUDA error: Failed call to cuInit: UNKNOWN ERROR (303)\n",
      "/home/cesmarinho/.pyenv/versions/3.10.6/envs/lewagon/lib/python3.10/site-packages/keras/src/layers/rnn/rnn.py:200: UserWarning: Do not pass an `input_shape`/`input_dim` argument to a layer. When using Sequential models, prefer using an `Input(shape)` object as the first layer in the model instead.\n",
      "  super().__init__(**kwargs)\n"
     ]
    },
    {
     "name": "stdout",
     "output_type": "stream",
     "text": [
      "Epoch 1/2\n",
      "\u001b[1m437/437\u001b[0m \u001b[32m━━━━━━━━━━━━━━━━━━━━\u001b[0m\u001b[37m\u001b[0m \u001b[1m123s\u001b[0m 276ms/step - loss: 0.4675 - val_loss: 0.1895\n",
      "Epoch 2/2\n",
      "\u001b[1m437/437\u001b[0m \u001b[32m━━━━━━━━━━━━━━━━━━━━\u001b[0m\u001b[37m\u001b[0m \u001b[1m141s\u001b[0m 322ms/step - loss: 0.2347 - val_loss: 0.1108\n",
      "CPU times: user 10min 48s, sys: 3min 55s, total: 14min 44s\n",
      "Wall time: 4min 24s\n"
     ]
    }
   ],
   "source": [
    "\n",
    "%%time\n",
    "model = Sequential([\n",
    "    LSTM(128, activation='tanh', return_sequences=True, input_shape=(WINDOW_SIZE, X_train.shape[2])),\n",
    "    #Dropout(0.2),\n",
    "    LSTM(128, activation='tanh', return_sequences=True),\n",
    "    LSTM(64, activation='tanh', return_sequences=True),\n",
    "    LSTM(32, activation='tanh'),\n",
    "    #Dropout(0.2),\n",
    "    Dense(TARGET_DAYS)  # Saída com 16 valores (previsão para 16 dias)\n",
    "])\n",
    "\n",
    "model.compile(loss='mse',\n",
    "              optimizer=Adam(learning_rate=0.005)\n",
    "             )\n",
    "\n",
    "early_stopping = EarlyStopping(monitor='val_loss', patience=n_patience, restore_best_weights=True)\n",
    "\n",
    "history = model.fit(\n",
    "    X_train, y_train,\n",
    "    validation_data=(X_test, y_test),\n",
    "    epochs=n_epochs,\n",
    "    batch_size=n_batch_size,\n",
    "    callbacks=[early_stopping]\n",
    ")"
   ]
  },
  {
   "cell_type": "code",
   "execution_count": 18,
   "id": "3aba69f0-c120-4bd8-974c-78ffb42fb229",
   "metadata": {
    "colab": {
     "base_uri": "https://localhost:8080/"
    },
    "id": "3aba69f0-c120-4bd8-974c-78ffb42fb229",
    "outputId": "e1a58576-8e01-4f2d-ccfd-f642743d1d49"
   },
   "outputs": [
    {
     "name": "stdout",
     "output_type": "stream",
     "text": [
      "\u001b[1m6/6\u001b[0m \u001b[32m━━━━━━━━━━━━━━━━━━━━\u001b[0m\u001b[37m\u001b[0m \u001b[1m1s\u001b[0m 178ms/step\n"
     ]
    }
   ],
   "source": [
    "y_pred_scaled = model.predict(X_test)"
   ]
  },
  {
   "cell_type": "code",
   "execution_count": 19,
   "id": "8320fbd4-5a06-4a47-b86f-231ebf4dcb41",
   "metadata": {
    "id": "8320fbd4-5a06-4a47-b86f-231ebf4dcb41"
   },
   "outputs": [],
   "source": [
    "y_pred_original = preprocessor.named_transformers_['y_col'].inverse_transform(y_pred_scaled)\n",
    "y_test_original = preprocessor.named_transformers_['y_col'].inverse_transform(y_test)"
   ]
  },
  {
   "cell_type": "code",
   "execution_count": 20,
   "id": "lxIq3yRTAUwU",
   "metadata": {
    "colab": {
     "base_uri": "https://localhost:8080/"
    },
    "id": "lxIq3yRTAUwU",
    "outputId": "16872cfd-1ad4-482c-f1e0-0f9811dfcda9"
   },
   "outputs": [
    {
     "name": "stdout",
     "output_type": "stream",
     "text": [
      "(170, 16)\n"
     ]
    },
    {
     "data": {
      "text/plain": [
       "array([14472.,  9934., 10941., 11156.,  8419.,  9346., 12463., 13248.,\n",
       "        8497.,  8201.,  8062.,  7097.,  9979.,  9391.,  9811.,  8318.])"
      ]
     },
     "execution_count": 20,
     "metadata": {},
     "output_type": "execute_result"
    }
   ],
   "source": [
    "print(y_test_original.shape)\n",
    "y_test_original[15]"
   ]
  },
  {
   "cell_type": "code",
   "execution_count": 21,
   "id": "d34eff20-8551-4d02-99d0-bcb627305d9e",
   "metadata": {
    "colab": {
     "base_uri": "https://localhost:8080/"
    },
    "id": "d34eff20-8551-4d02-99d0-bcb627305d9e",
    "outputId": "dd9bfc4b-bf82-45e5-dd8e-64b8f9362fdc"
   },
   "outputs": [
    {
     "name": "stdout",
     "output_type": "stream",
     "text": [
      "MAE na escala original: 1058.06\n"
     ]
    }
   ],
   "source": [
    "from sklearn.metrics import mean_absolute_error\n",
    "mae_original = mean_absolute_error(y_test_original, y_pred_original)\n",
    "print(f\"MAE na escala original: {mae_original:.2f}\")"
   ]
  },
  {
   "cell_type": "code",
   "execution_count": 22,
   "id": "b5d61733-8b78-4b7c-a97d-e85d265354b0",
   "metadata": {
    "colab": {
     "base_uri": "https://localhost:8080/"
    },
    "id": "b5d61733-8b78-4b7c-a97d-e85d265354b0",
    "outputId": "b3c9596e-3c2c-45f1-94d4-9e226bf82a26"
   },
   "outputs": [
    {
     "name": "stdout",
     "output_type": "stream",
     "text": [
      "RMSLE na escala original: 0.14\n"
     ]
    }
   ],
   "source": [
    "rmsle = np.sqrt(mean_squared_log_error(y_test_original, y_pred_original))\n",
    "print(f\"RMSLE na escala original: {rmsle:.2f}\")"
   ]
  },
  {
   "cell_type": "code",
   "execution_count": 23,
   "id": "c841ac9e-bcef-43fa-935b-ea4e6b4786fe",
   "metadata": {
    "colab": {
     "base_uri": "https://localhost:8080/",
     "height": 489
    },
    "id": "c841ac9e-bcef-43fa-935b-ea4e6b4786fe",
    "outputId": "f82f89cf-89b5-4078-c23e-6f9b650b4580"
   },
   "outputs": [
    {
     "data": {
      "image/png": "[encoded data removed]",
      "text/plain": [
       "<Figure size 1200x500 with 1 Axes>"
      ]
     },
     "metadata": {},
     "output_type": "display_data"
    }
   ],
   "source": [
    "# Recuperar valores do histórico\n",
    "loss = history.history['loss']\n",
    "val_loss = history.history['val_loss']\n",
    "mae = history.history.get('mae', None)  # Algumas vezes pode ser 'mean_absolute_error'\n",
    "val_mae = history.history.get('val_mae', None)\n",
    "\n",
    "epochs = range(1, len(loss) + 1)\n",
    "\n",
    "# 🔹 Plotando Loss\n",
    "plt.figure(figsize=(12, 5))\n",
    "plt.subplot(1, 2, 1)\n",
    "plt.plot(epochs, loss, label='Loss - Treino', color='blue')\n",
    "plt.plot(epochs, val_loss, label='Loss - Validação', color='orange')\n",
    "plt.xlabel('Épocas')\n",
    "plt.ylabel('Loss')\n",
    "plt.title('Learning Curve - Loss')\n",
    "plt.legend()\n",
    "plt.grid()\n",
    "\n",
    "# 🔹 Plotando MAE (se disponível)\n",
    "if mae is not None:\n",
    "    plt.subplot(1, 2, 2)\n",
    "    plt.plot(epochs, mae, label='MAE - Treino', color='blue')\n",
    "    plt.plot(epochs, val_mae, label='MAE - Validação', color='orange')\n",
    "    plt.xlabel('Épocas')\n",
    "    plt.ylabel('MAE')\n",
    "    plt.title('Learning Curve - MAE')\n",
    "    plt.legend()\n",
    "    plt.grid()\n",
    "\n",
    "plt.show()"
   ]
  },
  {
   "cell_type": "markdown",
   "id": "Af_bOTvjL3oC",
   "metadata": {
    "id": "Af_bOTvjL3oC"
   },
   "source": [
    "### Modelo 02"
   ]
  },
  {
   "cell_type": "code",
   "execution_count": 24,
   "id": "26ab4ed3-7bcb-4f63-9dff-405a849b0e82",
   "metadata": {
    "colab": {
     "base_uri": "https://localhost:8080/"
    },
    "id": "26ab4ed3-7bcb-4f63-9dff-405a849b0e82",
    "outputId": "4107d9f1-d573-4540-908f-46a1c6bfc98d"
   },
   "outputs": [
    {
     "name": "stdout",
     "output_type": "stream",
     "text": [
      "Epoch 1/2\n"
     ]
    },
    {
     "name": "stderr",
     "output_type": "stream",
     "text": [
      "/home/cesmarinho/.pyenv/versions/3.10.6/envs/lewagon/lib/python3.10/site-packages/keras/src/layers/rnn/rnn.py:200: UserWarning: Do not pass an `input_shape`/`input_dim` argument to a layer. When using Sequential models, prefer using an `Input(shape)` object as the first layer in the model instead.\n",
      "  super().__init__(**kwargs)\n"
     ]
    },
    {
     "name": "stdout",
     "output_type": "stream",
     "text": [
      "\u001b[1m437/437\u001b[0m \u001b[32m━━━━━━━━━━━━━━━━━━━━\u001b[0m\u001b[37m\u001b[0m \u001b[1m146s\u001b[0m 328ms/step - loss: 0.5190 - val_loss: 0.1353\n",
      "Epoch 2/2\n",
      "\u001b[1m437/437\u001b[0m \u001b[32m━━━━━━━━━━━━━━━━━━━━\u001b[0m\u001b[37m\u001b[0m \u001b[1m139s\u001b[0m 317ms/step - loss: 0.2551 - val_loss: 0.1254\n",
      "CPU times: user 12min 18s, sys: 4min 37s, total: 16min 55s\n",
      "Wall time: 4min 44s\n"
     ]
    }
   ],
   "source": [
    "%%time\n",
    "model_2 = Sequential([\n",
    "    LSTM(128, activation='tanh', return_sequences=True, input_shape=(WINDOW_SIZE, X_train.shape[2])),\n",
    "    #Dropout(0.2),\n",
    "    LSTM(128, activation='tanh', return_sequences=True),\n",
    "    LSTM(64, activation='tanh', return_sequences=True),\n",
    "    LSTM(32, activation='tanh'),\n",
    "    #Dropout(0.2),\n",
    "    Dense(TARGET_DAYS)  # Saída com 16 valores (previsão para 16 dias)\n",
    "])\n",
    "\n",
    "model_2.compile(loss='mse',\n",
    "              optimizer=RMSprop(learning_rate=0.005)\n",
    "             )\n",
    "\n",
    "early_stopping = EarlyStopping(monitor='val_loss', patience=n_patience, restore_best_weights=True)\n",
    "\n",
    "history_2 = model_2.fit(\n",
    "    X_train, y_train,\n",
    "    validation_data=(X_test, y_test),\n",
    "    epochs=n_epochs,\n",
    "    batch_size=n_batch_size,\n",
    "    callbacks=[early_stopping]\n",
    ")"
   ]
  },
  {
   "cell_type": "code",
   "execution_count": 25,
   "id": "d8ac2645-7dae-4a69-b383-e6ea087b3bd2",
   "metadata": {
    "colab": {
     "base_uri": "https://localhost:8080/"
    },
    "id": "d8ac2645-7dae-4a69-b383-e6ea087b3bd2",
    "outputId": "b630fcab-5c5e-48d7-afe2-effb3ed2a8d1"
   },
   "outputs": [
    {
     "name": "stdout",
     "output_type": "stream",
     "text": [
      "\u001b[1m6/6\u001b[0m \u001b[32m━━━━━━━━━━━━━━━━━━━━\u001b[0m\u001b[37m\u001b[0m \u001b[1m1s\u001b[0m 172ms/step\n"
     ]
    }
   ],
   "source": [
    "y_pred_scaled_m2 = model_2.predict(X_test)"
   ]
  },
  {
   "cell_type": "code",
   "execution_count": 26,
   "id": "5f3c4bb8-ab05-42e2-8229-6aec27be10ec",
   "metadata": {
    "id": "5f3c4bb8-ab05-42e2-8229-6aec27be10ec"
   },
   "outputs": [],
   "source": [
    "y_pred_original_m2 = preprocessor.named_transformers_['y_col'].inverse_transform(y_pred_scaled_m2)"
   ]
  },
  {
   "cell_type": "code",
   "execution_count": 27,
   "id": "fd64a0a0-1f05-45da-bfa0-7f4820a71d6c",
   "metadata": {
    "colab": {
     "base_uri": "https://localhost:8080/"
    },
    "id": "fd64a0a0-1f05-45da-bfa0-7f4820a71d6c",
    "outputId": "f4536761-dcfe-46af-e7fc-c5b72d299c4b"
   },
   "outputs": [
    {
     "name": "stdout",
     "output_type": "stream",
     "text": [
      "MAE na escala original: 1142.69\n"
     ]
    }
   ],
   "source": [
    "mae_original_m2 = mean_absolute_error(y_test_original, y_pred_original_m2)\n",
    "print(f\"MAE na escala original: {mae_original_m2:.2f}\")"
   ]
  },
  {
   "cell_type": "code",
   "execution_count": 28,
   "id": "60aff3e0-cc72-45a1-a005-8bce5c25a881",
   "metadata": {
    "colab": {
     "base_uri": "https://localhost:8080/"
    },
    "id": "60aff3e0-cc72-45a1-a005-8bce5c25a881",
    "outputId": "876946b0-ce06-4f95-e9ce-67cea98acf18"
   },
   "outputs": [
    {
     "name": "stdout",
     "output_type": "stream",
     "text": [
      "RMSLE na escala original: 0.15\n"
     ]
    }
   ],
   "source": [
    "rmsle_m2 = np.sqrt(mean_squared_log_error(y_test_original, y_pred_original_m2))\n",
    "print(f\"RMSLE na escala original: {rmsle_m2:.2f}\")"
   ]
  },
  {
   "cell_type": "code",
   "execution_count": 29,
   "id": "c0052903-2a94-49da-8327-9278a4de4489",
   "metadata": {
    "colab": {
     "base_uri": "https://localhost:8080/",
     "height": 489
    },
    "id": "c0052903-2a94-49da-8327-9278a4de4489",
    "outputId": "be33193f-1070-4948-cd34-f801effe1aa2"
   },
   "outputs": [
    {
     "data": {
      "image/png": "[encoded data removed]",
      "text/plain": [
       "<Figure size 1200x500 with 1 Axes>"
      ]
     },
     "metadata": {},
     "output_type": "display_data"
    }
   ],
   "source": [
    "# Recuperar valores do histórico\n",
    "loss = history_2.history['loss']\n",
    "val_loss = history_2.history['val_loss']\n",
    "mae = history_2.history.get('mae', None)  # Algumas vezes pode ser 'mean_absolute_error'\n",
    "val_mae = history_2.history.get('val_mae', None)\n",
    "\n",
    "epochs = range(1, len(loss) + 1)\n",
    "\n",
    "# 🔹 Plotando Loss\n",
    "plt.figure(figsize=(12, 5))\n",
    "plt.subplot(1, 2, 1)\n",
    "plt.plot(epochs, loss, label='Loss - Treino', color='blue')\n",
    "plt.plot(epochs, val_loss, label='Loss - Validação', color='orange')\n",
    "plt.xlabel('Épocas')\n",
    "plt.ylabel('Loss')\n",
    "plt.title('Learning Curve - Loss')\n",
    "plt.legend()\n",
    "plt.grid()\n",
    "\n",
    "# 🔹 Plotando MAE (se disponível)\n",
    "if mae is not None:\n",
    "    plt.subplot(1, 2, 2)\n",
    "    plt.plot(epochs, mae, label='MAE - Treino', color='blue')\n",
    "    plt.plot(epochs, val_mae, label='MAE - Validação', color='orange')\n",
    "    plt.xlabel('Épocas')\n",
    "    plt.ylabel('MAE')\n",
    "    plt.title('Learning Curve - MAE')\n",
    "    plt.legend()\n",
    "    plt.grid()\n",
    "\n",
    "plt.show()"
   ]
  },
  {
   "cell_type": "markdown",
   "id": "9iU1S32uMaM3",
   "metadata": {
    "id": "9iU1S32uMaM3"
   },
   "source": [
    "### Modelo 03"
   ]
  },
  {
   "cell_type": "code",
   "execution_count": 30,
   "id": "87a336a5-a820-4204-b8c3-ef7d71da02b4",
   "metadata": {
    "colab": {
     "base_uri": "https://localhost:8080/"
    },
    "id": "87a336a5-a820-4204-b8c3-ef7d71da02b4",
    "outputId": "901b5170-da1d-454c-c352-4b4af787528e"
   },
   "outputs": [
    {
     "name": "stderr",
     "output_type": "stream",
     "text": [
      "/home/cesmarinho/.pyenv/versions/3.10.6/envs/lewagon/lib/python3.10/site-packages/keras/src/layers/rnn/rnn.py:200: UserWarning: Do not pass an `input_shape`/`input_dim` argument to a layer. When using Sequential models, prefer using an `Input(shape)` object as the first layer in the model instead.\n",
      "  super().__init__(**kwargs)\n"
     ]
    },
    {
     "name": "stdout",
     "output_type": "stream",
     "text": [
      "Epoch 1/2\n",
      "\u001b[1m437/437\u001b[0m \u001b[32m━━━━━━━━━━━━━━━━━━━━\u001b[0m\u001b[37m\u001b[0m \u001b[1m144s\u001b[0m 323ms/step - loss: 0.4388 - val_loss: 0.2000\n",
      "Epoch 2/2\n",
      "\u001b[1m437/437\u001b[0m \u001b[32m━━━━━━━━━━━━━━━━━━━━\u001b[0m\u001b[37m\u001b[0m \u001b[1m141s\u001b[0m 324ms/step - loss: 0.2412 - val_loss: 0.1849\n",
      "CPU times: user 13min 32s, sys: 5min 9s, total: 18min 42s\n",
      "Wall time: 4min 46s\n"
     ]
    }
   ],
   "source": [
    "%%time\n",
    "model_3 = Sequential([\n",
    "    GRU(128, activation='tanh', return_sequences=True, input_shape=(WINDOW_SIZE, X_train.shape[2])),\n",
    "    #Dropout(0.2),\n",
    "    GRU(128, activation='tanh', return_sequences=True),\n",
    "    GRU(64, activation='tanh', return_sequences=True),\n",
    "    GRU(32, activation='tanh'),\n",
    "    #Dropout(0.2),\n",
    "    Dense(TARGET_DAYS)  # Saída com 16 valores (previsão para 16 dias)\n",
    "])\n",
    "\n",
    "model_3.compile(loss='mse',\n",
    "              optimizer=RMSprop(learning_rate=0.005)\n",
    "             )\n",
    "\n",
    "early_stopping = EarlyStopping(monitor='val_loss', patience=n_patience, restore_best_weights=True)\n",
    "\n",
    "history_3 = model_3.fit(\n",
    "    X_train, y_train,\n",
    "    validation_data=(X_test, y_test),\n",
    "    epochs=n_epochs,\n",
    "    batch_size=n_batch_size,\n",
    "    callbacks=[early_stopping]\n",
    ")"
   ]
  },
  {
   "cell_type": "code",
   "execution_count": 31,
   "id": "EQ5fI73SMb9r",
   "metadata": {
    "colab": {
     "base_uri": "https://localhost:8080/"
    },
    "id": "EQ5fI73SMb9r",
    "outputId": "ac251fb9-fd04-4b60-c7b0-c9d2919d91a0"
   },
   "outputs": [
    {
     "name": "stdout",
     "output_type": "stream",
     "text": [
      "WARNING:tensorflow:5 out of the last 13 calls to <function TensorFlowTrainer.make_predict_function.<locals>.one_step_on_data_distributed at 0x7f6ab238ac20> triggered tf.function retracing. Tracing is expensive and the excessive number of tracings could be due to (1) creating @tf.function repeatedly in a loop, (2) passing tensors with different shapes, (3) passing Python objects instead of tensors. For (1), please define your @tf.function outside of the loop. For (2), @tf.function has reduce_retracing=True option that can avoid unnecessary retracing. For (3), please refer to https://www.tensorflow.org/guide/function#controlling_retracing and https://www.tensorflow.org/api_docs/python/tf/function for  more details.\n",
      "\u001b[1m6/6\u001b[0m \u001b[32m━━━━━━━━━━━━━━━━━━━━\u001b[0m\u001b[37m\u001b[0m \u001b[1m1s\u001b[0m 169ms/step\n"
     ]
    }
   ],
   "source": [
    "y_pred_scaled_m3 = model_3.predict(X_test)"
   ]
  },
  {
   "cell_type": "code",
   "execution_count": 32,
   "id": "7K_FaimsMchJ",
   "metadata": {
    "id": "7K_FaimsMchJ"
   },
   "outputs": [],
   "source": [
    "y_pred_original_m3 = preprocessor.named_transformers_['y_col'].inverse_transform(y_pred_scaled_m3)"
   ]
  },
  {
   "cell_type": "code",
   "execution_count": 33,
   "id": "jP5HRcq-MckT",
   "metadata": {
    "colab": {
     "base_uri": "https://localhost:8080/"
    },
    "id": "jP5HRcq-MckT",
    "outputId": "d0149613-9d0d-4e4e-d000-49fb4ae75eb0"
   },
   "outputs": [
    {
     "name": "stdout",
     "output_type": "stream",
     "text": [
      "MAE na escala original: 1319.60\n"
     ]
    }
   ],
   "source": [
    "mae_original_m3 = mean_absolute_error(y_test_original, y_pred_original_m3)\n",
    "print(f\"MAE na escala original: {mae_original_m3:.2f}\")"
   ]
  },
  {
   "cell_type": "code",
   "execution_count": 34,
   "id": "aMIvvVWcMcnn",
   "metadata": {
    "colab": {
     "base_uri": "https://localhost:8080/"
    },
    "id": "aMIvvVWcMcnn",
    "outputId": "7019a017-0dd5-4c2f-d46a-3b303b3ef6df"
   },
   "outputs": [
    {
     "name": "stdout",
     "output_type": "stream",
     "text": [
      "RMSLE na escala original: 0.17\n"
     ]
    }
   ],
   "source": [
    "rmsle_m3 = np.sqrt(mean_squared_log_error(y_test_original, y_pred_original_m3))\n",
    "print(f\"RMSLE na escala original: {rmsle_m3:.2f}\")"
   ]
  },
  {
   "cell_type": "code",
   "execution_count": 35,
   "id": "G8W6dAfSMcqk",
   "metadata": {
    "colab": {
     "base_uri": "https://localhost:8080/",
     "height": 489
    },
    "id": "G8W6dAfSMcqk",
    "outputId": "6309996b-d571-4e4d-c027-85679f34a54c"
   },
   "outputs": [
    {
     "data": {
      "image/png": "[encoded data removed]",
      "text/plain": [
       "<Figure size 1200x500 with 1 Axes>"
      ]
     },
     "metadata": {},
     "output_type": "display_data"
    }
   ],
   "source": [
    "# Recuperar valores do histórico\n",
    "loss = history_3.history['loss']\n",
    "val_loss = history_3.history['val_loss']\n",
    "mae = history_3.history.get('mae', None)  # Algumas vezes pode ser 'mean_absolute_error'\n",
    "val_mae = history_3.history.get('val_mae', None)\n",
    "\n",
    "epochs = range(1, len(loss) + 1)\n",
    "\n",
    "# 🔹 Plotando Loss\n",
    "plt.figure(figsize=(12, 5))\n",
    "plt.subplot(1, 2, 1)\n",
    "plt.plot(epochs, loss, label='Loss - Treino', color='blue')\n",
    "plt.plot(epochs, val_loss, label='Loss - Validação', color='orange')\n",
    "plt.xlabel('Épocas')\n",
    "plt.ylabel('Loss')\n",
    "plt.title('Learning Curve - Loss')\n",
    "plt.legend()\n",
    "plt.grid()\n",
    "\n",
    "# 🔹 Plotando MAE (se disponível)\n",
    "if mae is not None:\n",
    "    plt.subplot(1, 2, 2)\n",
    "    plt.plot(epochs, mae, label='MAE - Treino', color='blue')\n",
    "    plt.plot(epochs, val_mae, label='MAE - Validação', color='orange')\n",
    "    plt.xlabel('Épocas')\n",
    "    plt.ylabel('MAE')\n",
    "    plt.title('Learning Curve - MAE')\n",
    "    plt.legend()\n",
    "    plt.grid()\n",
    "\n",
    "plt.show()"
   ]
  },
  {
   "cell_type": "markdown",
   "id": "d2757765-521e-4633-984f-5ed00ac9842c",
   "metadata": {
    "id": "d2757765-521e-4633-984f-5ed00ac9842c"
   },
   "source": [
    "### Best Model"
   ]
  },
  {
   "cell_type": "code",
   "execution_count": 36,
   "id": "sSmonplHMdS4",
   "metadata": {
    "colab": {
     "base_uri": "https://localhost:8080/",
     "height": 143
    },
    "id": "sSmonplHMdS4",
    "outputId": "400bd9db-3ab1-4539-b89c-1d042bb2039c"
   },
   "outputs": [
    {
     "data": {
      "text/html": [
       "<div>\n",
       "<style scoped>\n",
       "    .dataframe tbody tr th:only-of-type {\n",
       "        vertical-align: middle;\n",
       "    }\n",
       "\n",
       "    .dataframe tbody tr th {\n",
       "        vertical-align: top;\n",
       "    }\n",
       "\n",
       "    .dataframe thead th {\n",
       "        text-align: right;\n",
       "    }\n",
       "</style>\n",
       "<table border=\"1\" class=\"dataframe\">\n",
       "  <thead>\n",
       "    <tr style=\"text-align: right;\">\n",
       "      <th></th>\n",
       "      <th>Modelo 01</th>\n",
       "      <th>Modelo 02</th>\n",
       "      <th>Modelo 03</th>\n",
       "    </tr>\n",
       "  </thead>\n",
       "  <tbody>\n",
       "    <tr>\n",
       "      <th>MAE</th>\n",
       "      <td>1,058.06</td>\n",
       "      <td>1,142.69</td>\n",
       "      <td>1,319.60</td>\n",
       "    </tr>\n",
       "    <tr>\n",
       "      <th>RMSLE</th>\n",
       "      <td>0.14</td>\n",
       "      <td>0.15</td>\n",
       "      <td>0.17</td>\n",
       "    </tr>\n",
       "    <tr>\n",
       "      <th>y_pred_original</th>\n",
       "      <td>[[15184.115, 17136.781, 10458.169, 9775.297, 9...</td>\n",
       "      <td>[[13426.025, 14306.021, 9476.331, 9364.569, 93...</td>\n",
       "      <td>[[14148.752, 15444.307, 9448.783, 8102.9053, 7...</td>\n",
       "    </tr>\n",
       "  </tbody>\n",
       "</table>\n",
       "</div>"
      ],
      "text/plain": [
       "                                                         Modelo 01  \\\n",
       "MAE                                                       1,058.06   \n",
       "RMSLE                                                         0.14   \n",
       "y_pred_original  [[15184.115, 17136.781, 10458.169, 9775.297, 9...   \n",
       "\n",
       "                                                         Modelo 02  \\\n",
       "MAE                                                       1,142.69   \n",
       "RMSLE                                                         0.15   \n",
       "y_pred_original  [[13426.025, 14306.021, 9476.331, 9364.569, 93...   \n",
       "\n",
       "                                                         Modelo 03  \n",
       "MAE                                                       1,319.60  \n",
       "RMSLE                                                         0.17  \n",
       "y_pred_original  [[14148.752, 15444.307, 9448.783, 8102.9053, 7...  "
      ]
     },
     "execution_count": 36,
     "metadata": {},
     "output_type": "execute_result"
    }
   ],
   "source": [
    "df_models = pd.DataFrame([[mae_original, mae_original_m2, mae_original_m3],[rmsle, rmsle_m2, rmsle_m3],[y_pred_original, y_pred_original_m2, y_pred_original_m3]], columns = ['Modelo 01', 'Modelo 02', 'Modelo 03'], index = ['MAE', 'RMSLE', 'y_pred_original'])\n",
    "df_models"
   ]
  },
  {
   "cell_type": "code",
   "execution_count": 37,
   "id": "rRYlhlNpMc57",
   "metadata": {
    "colab": {
     "base_uri": "https://localhost:8080/"
    },
    "id": "rRYlhlNpMc57",
    "outputId": "02fcfd76-84bb-49b0-a954-aa3a95f0231e"
   },
   "outputs": [
    {
     "name": "stdout",
     "output_type": "stream",
     "text": [
      "O Modelo 01 é o melhor, com MAE 1058.06 e RMSLE 0.14\n"
     ]
    }
   ],
   "source": [
    "best_model_mae = df_models.loc['MAE'].min()\n",
    "best_model = df_models.loc['MAE'].idxmin()\n",
    "best_model_rmsle = df_models.loc['RMSLE', best_model]\n",
    "best_model_y_pred = df_models.loc['y_pred_original', best_model]\n",
    "\n",
    "print(f\"O {best_model} é o melhor, com MAE {best_model_mae:.2f} e RMSLE {best_model_rmsle:.2f}\")"
   ]
  },
  {
   "cell_type": "markdown",
   "id": "d716703c-9600-4713-9f9a-9c32116e3f3d",
   "metadata": {
    "id": "d716703c-9600-4713-9f9a-9c32116e3f3d"
   },
   "source": [
    "### Dataframe das 16 observações finais"
   ]
  },
  {
   "cell_type": "code",
   "execution_count": 122,
   "id": "ed1fe3f8-188e-4162-97e1-60043963f5a4",
   "metadata": {
    "id": "ed1fe3f8-188e-4162-97e1-60043963f5a4"
   },
   "outputs": [],
   "source": [
    "# ultimas 16 observações de cada seguencia, retornando ao shape esperado do y (n_sequences, n_observations):\n",
    "def y_shape_10_16(y, train_test_df, window_size, target_days):\n",
    "    y_final = []\n",
    "    # do ~end_sequence - 1~ para o ~end_sequence~, se muda a chave considerada, ou seja, caminha-se pelas 1684 observações e vai de uma chave para a outra\n",
    "    end_sequence_y = len(train_test_df) - window_size - target_days + 1\n",
    "    for i in range(end_sequence_y, int(y.shape[0]+1), end_sequence_y):\n",
    "        print(i)\n",
    "        print('\\n')\n",
    "        y_final.append(y[i - 1,:])\n",
    "    return np.array(y_final)\n"
   ]
  },
  {
   "cell_type": "code",
   "execution_count": 133,
   "id": "47d29cc0-9032-442e-a28a-fa2ab08c5ca3",
   "metadata": {},
   "outputs": [
    {
     "data": {
      "text/plain": [
       "array([17054.5   , 10846.442 ,  9741.863 , 10656.854 ,  8365.352 ,\n",
       "       10296.696 , 14307.334 , 15505.468 ,  8956.3125,  8345.971 ,\n",
       "       10121.352 ,  7810.6274, 10629.092 , 14448.773 , 16040.245 ,\n",
       "       10040.949 ], dtype=float32)"
      ]
     },
     "execution_count": 133,
     "metadata": {},
     "output_type": "execute_result"
    }
   ],
   "source": [
    "best_model_y_pred[15,:]"
   ]
  },
  {
   "cell_type": "code",
   "execution_count": 124,
   "id": "748c8261-5281-45c8-80ab-9198275de8b2",
   "metadata": {},
   "outputs": [
    {
     "data": {
      "text/plain": [
       "(170, 16)"
      ]
     },
     "execution_count": 124,
     "metadata": {},
     "output_type": "execute_result"
    }
   ],
   "source": [
    "best_model_y_pred.shape"
   ]
  },
  {
   "cell_type": "code",
   "execution_count": 123,
   "id": "4b7f5733-2311-401b-b778-10e6807f0490",
   "metadata": {
    "colab": {
     "base_uri": "https://localhost:8080/"
    },
    "id": "4b7f5733-2311-401b-b778-10e6807f0490",
    "outputId": "7b61d773-512a-4c02-f075-b36d873900a8"
   },
   "outputs": [
    {
     "name": "stdout",
     "output_type": "stream",
     "text": [
      "17\n",
      "\n",
      "\n",
      "34\n",
      "\n",
      "\n",
      "51\n",
      "\n",
      "\n",
      "68\n",
      "\n",
      "\n",
      "85\n",
      "\n",
      "\n",
      "102\n",
      "\n",
      "\n",
      "119\n",
      "\n",
      "\n",
      "136\n",
      "\n",
      "\n",
      "153\n",
      "\n",
      "\n",
      "170\n",
      "\n",
      "\n",
      "y_pred_final: (10, 16)\n",
      "17\n",
      "\n",
      "\n",
      "34\n",
      "\n",
      "\n",
      "51\n",
      "\n",
      "\n",
      "68\n",
      "\n",
      "\n",
      "85\n",
      "\n",
      "\n",
      "102\n",
      "\n",
      "\n",
      "119\n",
      "\n",
      "\n",
      "136\n",
      "\n",
      "\n",
      "153\n",
      "\n",
      "\n",
      "170\n",
      "\n",
      "\n",
      "y_test_final: (10, 16)\n"
     ]
    }
   ],
   "source": [
    "# Criação do tensor do y predict\n",
    "y_pred_final = y_shape_10_16(best_model_y_pred, test_features, WINDOW_SIZE,TARGET_DAYS)\n",
    "print(f'y_pred_final: {y_pred_final.shape}')\n",
    "\n",
    "# Criação do tensor do y teste\n",
    "y_test_final = y_shape_10_16(y_test_original, test_features, WINDOW_SIZE,TARGET_DAYS)\n",
    "print(f'y_test_final: {y_test_final.shape}')"
   ]
  },
  {
   "cell_type": "code",
   "execution_count": 112,
   "id": "227a5201-9c52-468a-a242-5832503409bb",
   "metadata": {
    "id": "227a5201-9c52-468a-a242-5832503409bb"
   },
   "outputs": [],
   "source": [
    "# Criação  do dataframe final com o n_sequences:\n",
    "\n",
    "def df_final(y, df_sequences, df_test):\n",
    "    for i in range(int(y.shape[0])):\n",
    "        if i == 0:\n",
    "            df = pd.DataFrame(y[i], columns = ['sales'])\n",
    "            df['chave'] = df_sequences['chave'][i]\n",
    "            df['date'] = df_test['date'][-16:].values\n",
    "        else:\n",
    "            df_i =  pd.DataFrame(y[i],columns = ['sales'])\n",
    "            df_i['chave'] = df_sequences['chave'][i]\n",
    "            df_i['date'] = df_test['date'][-16:].values\n",
    "            df = pd.concat([df, df_i], axis=0)\n",
    "    return df\n"
   ]
  },
  {
   "cell_type": "code",
   "execution_count": 113,
   "id": "4730d626-ec06-41c6-9402-be9a9ba7ccc0",
   "metadata": {
    "colab": {
     "base_uri": "https://localhost:8080/",
     "height": 423
    },
    "id": "4730d626-ec06-41c6-9402-be9a9ba7ccc0",
    "outputId": "a69a49ad-e880-48e1-b0b9-36a03b862652"
   },
   "outputs": [
    {
     "name": "stderr",
     "output_type": "stream",
     "text": [
      "/tmp/ipykernel_1009/1888002956.py:2: UserWarning: Pandas requires version '3.0.5' or newer of 'xlsxwriter' (version '3.0.3' currently installed).\n",
      "  df_y_pred.to_excel(\"df_y_pred.xlsx\", index=False, sheet_name=\"df_y_pred\")\n"
     ]
    },
    {
     "data": {
      "text/html": [
       "<div>\n",
       "<style scoped>\n",
       "    .dataframe tbody tr th:only-of-type {\n",
       "        vertical-align: middle;\n",
       "    }\n",
       "\n",
       "    .dataframe tbody tr th {\n",
       "        vertical-align: top;\n",
       "    }\n",
       "\n",
       "    .dataframe thead th {\n",
       "        text-align: right;\n",
       "    }\n",
       "</style>\n",
       "<table border=\"1\" class=\"dataframe\">\n",
       "  <thead>\n",
       "    <tr style=\"text-align: right;\">\n",
       "      <th></th>\n",
       "      <th>sales</th>\n",
       "      <th>chave</th>\n",
       "      <th>date</th>\n",
       "    </tr>\n",
       "  </thead>\n",
       "  <tbody>\n",
       "    <tr>\n",
       "      <th>0</th>\n",
       "      <td>10,380.05</td>\n",
       "      <td>44GROCERY I</td>\n",
       "      <td>2017-07-31</td>\n",
       "    </tr>\n",
       "    <tr>\n",
       "      <th>1</th>\n",
       "      <td>9,581.69</td>\n",
       "      <td>44GROCERY I</td>\n",
       "      <td>2017-08-01</td>\n",
       "    </tr>\n",
       "    <tr>\n",
       "      <th>2</th>\n",
       "      <td>9,553.21</td>\n",
       "      <td>44GROCERY I</td>\n",
       "      <td>2017-08-02</td>\n",
       "    </tr>\n",
       "    <tr>\n",
       "      <th>3</th>\n",
       "      <td>8,570.33</td>\n",
       "      <td>44GROCERY I</td>\n",
       "      <td>2017-08-03</td>\n",
       "    </tr>\n",
       "    <tr>\n",
       "      <th>4</th>\n",
       "      <td>10,041.37</td>\n",
       "      <td>44GROCERY I</td>\n",
       "      <td>2017-08-04</td>\n",
       "    </tr>\n",
       "    <tr>\n",
       "      <th>...</th>\n",
       "      <td>...</td>\n",
       "      <td>...</td>\n",
       "      <td>...</td>\n",
       "    </tr>\n",
       "    <tr>\n",
       "      <th>11</th>\n",
       "      <td>7,822.24</td>\n",
       "      <td>49GROCERY I</td>\n",
       "      <td>2017-08-11</td>\n",
       "    </tr>\n",
       "    <tr>\n",
       "      <th>12</th>\n",
       "      <td>9,809.77</td>\n",
       "      <td>49GROCERY I</td>\n",
       "      <td>2017-08-12</td>\n",
       "    </tr>\n",
       "    <tr>\n",
       "      <th>13</th>\n",
       "      <td>10,443.14</td>\n",
       "      <td>49GROCERY I</td>\n",
       "      <td>2017-08-13</td>\n",
       "    </tr>\n",
       "    <tr>\n",
       "      <th>14</th>\n",
       "      <td>7,780.53</td>\n",
       "      <td>49GROCERY I</td>\n",
       "      <td>2017-08-14</td>\n",
       "    </tr>\n",
       "    <tr>\n",
       "      <th>15</th>\n",
       "      <td>7,390.84</td>\n",
       "      <td>49GROCERY I</td>\n",
       "      <td>2017-08-15</td>\n",
       "    </tr>\n",
       "  </tbody>\n",
       "</table>\n",
       "<p>160 rows × 3 columns</p>\n",
       "</div>"
      ],
      "text/plain": [
       "       sales        chave       date\n",
       "0  10,380.05  44GROCERY I 2017-07-31\n",
       "1   9,581.69  44GROCERY I 2017-08-01\n",
       "2   9,553.21  44GROCERY I 2017-08-02\n",
       "3   8,570.33  44GROCERY I 2017-08-03\n",
       "4  10,041.37  44GROCERY I 2017-08-04\n",
       "..       ...          ...        ...\n",
       "11  7,822.24  49GROCERY I 2017-08-11\n",
       "12  9,809.77  49GROCERY I 2017-08-12\n",
       "13 10,443.14  49GROCERY I 2017-08-13\n",
       "14  7,780.53  49GROCERY I 2017-08-14\n",
       "15  7,390.84  49GROCERY I 2017-08-15\n",
       "\n",
       "[160 rows x 3 columns]"
      ]
     },
     "execution_count": 113,
     "metadata": {},
     "output_type": "execute_result"
    }
   ],
   "source": [
    "df_y_pred = df_final(y_pred_final, df_sequences, df_test)\n",
    "df_y_pred.to_excel(\"df_y_pred.xlsx\", index=False, sheet_name=\"df_y_pred\")\n",
    "df_y_pred"
   ]
  },
  {
   "cell_type": "code",
   "execution_count": 114,
   "id": "57dd263f-56bd-4ead-a1af-ea7ad3b95803",
   "metadata": {
    "colab": {
     "base_uri": "https://localhost:8080/",
     "height": 423
    },
    "id": "57dd263f-56bd-4ead-a1af-ea7ad3b95803",
    "outputId": "e1e19bc8-360a-402f-a67a-7e07b8b6f54e",
    "scrolled": true
   },
   "outputs": [
    {
     "name": "stderr",
     "output_type": "stream",
     "text": [
      "/tmp/ipykernel_1009/3928175057.py:2: UserWarning: Pandas requires version '3.0.5' or newer of 'xlsxwriter' (version '3.0.3' currently installed).\n",
      "  df_y_test.to_excel(\"df_y_test.xlsx\", index=False, sheet_name=\"df_y_test\")\n"
     ]
    },
    {
     "data": {
      "text/html": [
       "<div>\n",
       "<style scoped>\n",
       "    .dataframe tbody tr th:only-of-type {\n",
       "        vertical-align: middle;\n",
       "    }\n",
       "\n",
       "    .dataframe tbody tr th {\n",
       "        vertical-align: top;\n",
       "    }\n",
       "\n",
       "    .dataframe thead th {\n",
       "        text-align: right;\n",
       "    }\n",
       "</style>\n",
       "<table border=\"1\" class=\"dataframe\">\n",
       "  <thead>\n",
       "    <tr style=\"text-align: right;\">\n",
       "      <th></th>\n",
       "      <th>sales</th>\n",
       "      <th>chave</th>\n",
       "      <th>date</th>\n",
       "    </tr>\n",
       "  </thead>\n",
       "  <tbody>\n",
       "    <tr>\n",
       "      <th>0</th>\n",
       "      <td>9,934.00</td>\n",
       "      <td>44GROCERY I</td>\n",
       "      <td>2017-07-31</td>\n",
       "    </tr>\n",
       "    <tr>\n",
       "      <th>1</th>\n",
       "      <td>10,941.00</td>\n",
       "      <td>44GROCERY I</td>\n",
       "      <td>2017-08-01</td>\n",
       "    </tr>\n",
       "    <tr>\n",
       "      <th>2</th>\n",
       "      <td>11,156.00</td>\n",
       "      <td>44GROCERY I</td>\n",
       "      <td>2017-08-02</td>\n",
       "    </tr>\n",
       "    <tr>\n",
       "      <th>3</th>\n",
       "      <td>8,419.00</td>\n",
       "      <td>44GROCERY I</td>\n",
       "      <td>2017-08-03</td>\n",
       "    </tr>\n",
       "    <tr>\n",
       "      <th>4</th>\n",
       "      <td>9,346.00</td>\n",
       "      <td>44GROCERY I</td>\n",
       "      <td>2017-08-04</td>\n",
       "    </tr>\n",
       "    <tr>\n",
       "      <th>...</th>\n",
       "      <td>...</td>\n",
       "      <td>...</td>\n",
       "      <td>...</td>\n",
       "    </tr>\n",
       "    <tr>\n",
       "      <th>11</th>\n",
       "      <td>7,680.00</td>\n",
       "      <td>49GROCERY I</td>\n",
       "      <td>2017-08-11</td>\n",
       "    </tr>\n",
       "    <tr>\n",
       "      <th>12</th>\n",
       "      <td>7,030.00</td>\n",
       "      <td>49GROCERY I</td>\n",
       "      <td>2017-08-12</td>\n",
       "    </tr>\n",
       "    <tr>\n",
       "      <th>13</th>\n",
       "      <td>7,655.00</td>\n",
       "      <td>49GROCERY I</td>\n",
       "      <td>2017-08-13</td>\n",
       "    </tr>\n",
       "    <tr>\n",
       "      <th>14</th>\n",
       "      <td>7,366.00</td>\n",
       "      <td>49GROCERY I</td>\n",
       "      <td>2017-08-14</td>\n",
       "    </tr>\n",
       "    <tr>\n",
       "      <th>15</th>\n",
       "      <td>7,001.00</td>\n",
       "      <td>49GROCERY I</td>\n",
       "      <td>2017-08-15</td>\n",
       "    </tr>\n",
       "  </tbody>\n",
       "</table>\n",
       "<p>160 rows × 3 columns</p>\n",
       "</div>"
      ],
      "text/plain": [
       "       sales        chave       date\n",
       "0   9,934.00  44GROCERY I 2017-07-31\n",
       "1  10,941.00  44GROCERY I 2017-08-01\n",
       "2  11,156.00  44GROCERY I 2017-08-02\n",
       "3   8,419.00  44GROCERY I 2017-08-03\n",
       "4   9,346.00  44GROCERY I 2017-08-04\n",
       "..       ...          ...        ...\n",
       "11  7,680.00  49GROCERY I 2017-08-11\n",
       "12  7,030.00  49GROCERY I 2017-08-12\n",
       "13  7,655.00  49GROCERY I 2017-08-13\n",
       "14  7,366.00  49GROCERY I 2017-08-14\n",
       "15  7,001.00  49GROCERY I 2017-08-15\n",
       "\n",
       "[160 rows x 3 columns]"
      ]
     },
     "execution_count": 114,
     "metadata": {},
     "output_type": "execute_result"
    }
   ],
   "source": [
    "df_y_test = df_final(y_test_final, df_sequences, df_test)\n",
    "df_y_test.to_excel(\"df_y_test.xlsx\", index=False, sheet_name=\"df_y_test\")\n",
    "df_y_test"
   ]
  },
  {
   "cell_type": "markdown",
   "id": "74125a54-a77d-44bd-b6fb-f2846cf286cc",
   "metadata": {
    "id": "74125a54-a77d-44bd-b6fb-f2846cf286cc"
   },
   "source": [
    "FIM"
   ]
  },
  {
   "cell_type": "code",
   "execution_count": 115,
   "id": "d4ec716b-b65b-44a1-aac1-65a7504bed49",
   "metadata": {},
   "outputs": [
    {
     "data": {
      "text/html": [
       "<div>\n",
       "<style scoped>\n",
       "    .dataframe tbody tr th:only-of-type {\n",
       "        vertical-align: middle;\n",
       "    }\n",
       "\n",
       "    .dataframe tbody tr th {\n",
       "        vertical-align: top;\n",
       "    }\n",
       "\n",
       "    .dataframe thead th {\n",
       "        text-align: right;\n",
       "    }\n",
       "</style>\n",
       "<table border=\"1\" class=\"dataframe\">\n",
       "  <thead>\n",
       "    <tr style=\"text-align: right;\">\n",
       "      <th></th>\n",
       "      <th>sales</th>\n",
       "      <th>chave</th>\n",
       "      <th>date</th>\n",
       "    </tr>\n",
       "  </thead>\n",
       "  <tbody>\n",
       "    <tr>\n",
       "      <th>0</th>\n",
       "      <td>9,934.00</td>\n",
       "      <td>44GROCERY I</td>\n",
       "      <td>2017-07-31</td>\n",
       "    </tr>\n",
       "    <tr>\n",
       "      <th>1</th>\n",
       "      <td>10,941.00</td>\n",
       "      <td>44GROCERY I</td>\n",
       "      <td>2017-08-01</td>\n",
       "    </tr>\n",
       "    <tr>\n",
       "      <th>2</th>\n",
       "      <td>11,156.00</td>\n",
       "      <td>44GROCERY I</td>\n",
       "      <td>2017-08-02</td>\n",
       "    </tr>\n",
       "    <tr>\n",
       "      <th>3</th>\n",
       "      <td>8,419.00</td>\n",
       "      <td>44GROCERY I</td>\n",
       "      <td>2017-08-03</td>\n",
       "    </tr>\n",
       "    <tr>\n",
       "      <th>4</th>\n",
       "      <td>9,346.00</td>\n",
       "      <td>44GROCERY I</td>\n",
       "      <td>2017-08-04</td>\n",
       "    </tr>\n",
       "    <tr>\n",
       "      <th>5</th>\n",
       "      <td>12,463.00</td>\n",
       "      <td>44GROCERY I</td>\n",
       "      <td>2017-08-05</td>\n",
       "    </tr>\n",
       "    <tr>\n",
       "      <th>6</th>\n",
       "      <td>13,248.00</td>\n",
       "      <td>44GROCERY I</td>\n",
       "      <td>2017-08-06</td>\n",
       "    </tr>\n",
       "    <tr>\n",
       "      <th>7</th>\n",
       "      <td>8,497.00</td>\n",
       "      <td>44GROCERY I</td>\n",
       "      <td>2017-08-07</td>\n",
       "    </tr>\n",
       "    <tr>\n",
       "      <th>8</th>\n",
       "      <td>8,201.00</td>\n",
       "      <td>44GROCERY I</td>\n",
       "      <td>2017-08-08</td>\n",
       "    </tr>\n",
       "    <tr>\n",
       "      <th>9</th>\n",
       "      <td>8,062.00</td>\n",
       "      <td>44GROCERY I</td>\n",
       "      <td>2017-08-09</td>\n",
       "    </tr>\n",
       "    <tr>\n",
       "      <th>10</th>\n",
       "      <td>7,097.00</td>\n",
       "      <td>44GROCERY I</td>\n",
       "      <td>2017-08-10</td>\n",
       "    </tr>\n",
       "    <tr>\n",
       "      <th>11</th>\n",
       "      <td>9,979.00</td>\n",
       "      <td>44GROCERY I</td>\n",
       "      <td>2017-08-11</td>\n",
       "    </tr>\n",
       "    <tr>\n",
       "      <th>12</th>\n",
       "      <td>9,391.00</td>\n",
       "      <td>44GROCERY I</td>\n",
       "      <td>2017-08-12</td>\n",
       "    </tr>\n",
       "    <tr>\n",
       "      <th>13</th>\n",
       "      <td>9,811.00</td>\n",
       "      <td>44GROCERY I</td>\n",
       "      <td>2017-08-13</td>\n",
       "    </tr>\n",
       "    <tr>\n",
       "      <th>14</th>\n",
       "      <td>8,318.00</td>\n",
       "      <td>44GROCERY I</td>\n",
       "      <td>2017-08-14</td>\n",
       "    </tr>\n",
       "    <tr>\n",
       "      <th>15</th>\n",
       "      <td>8,123.00</td>\n",
       "      <td>44GROCERY I</td>\n",
       "      <td>2017-08-15</td>\n",
       "    </tr>\n",
       "  </tbody>\n",
       "</table>\n",
       "</div>"
      ],
      "text/plain": [
       "       sales        chave       date\n",
       "0   9,934.00  44GROCERY I 2017-07-31\n",
       "1  10,941.00  44GROCERY I 2017-08-01\n",
       "2  11,156.00  44GROCERY I 2017-08-02\n",
       "3   8,419.00  44GROCERY I 2017-08-03\n",
       "4   9,346.00  44GROCERY I 2017-08-04\n",
       "5  12,463.00  44GROCERY I 2017-08-05\n",
       "6  13,248.00  44GROCERY I 2017-08-06\n",
       "7   8,497.00  44GROCERY I 2017-08-07\n",
       "8   8,201.00  44GROCERY I 2017-08-08\n",
       "9   8,062.00  44GROCERY I 2017-08-09\n",
       "10  7,097.00  44GROCERY I 2017-08-10\n",
       "11  9,979.00  44GROCERY I 2017-08-11\n",
       "12  9,391.00  44GROCERY I 2017-08-12\n",
       "13  9,811.00  44GROCERY I 2017-08-13\n",
       "14  8,318.00  44GROCERY I 2017-08-14\n",
       "15  8,123.00  44GROCERY I 2017-08-15"
      ]
     },
     "execution_count": 115,
     "metadata": {},
     "output_type": "execute_result"
    }
   ],
   "source": [
    "df_y_test[df_y_test['chave'] == '44GROCERY I']"
   ]
  },
  {
   "cell_type": "code",
   "execution_count": 116,
   "id": "234bd95f-bedb-4ccc-8efa-3750527e8f91",
   "metadata": {},
   "outputs": [
    {
     "data": {
      "text/html": [
       "<div>\n",
       "<style scoped>\n",
       "    .dataframe tbody tr th:only-of-type {\n",
       "        vertical-align: middle;\n",
       "    }\n",
       "\n",
       "    .dataframe tbody tr th {\n",
       "        vertical-align: top;\n",
       "    }\n",
       "\n",
       "    .dataframe thead th {\n",
       "        text-align: right;\n",
       "    }\n",
       "</style>\n",
       "<table border=\"1\" class=\"dataframe\">\n",
       "  <thead>\n",
       "    <tr style=\"text-align: right;\">\n",
       "      <th></th>\n",
       "      <th>sales</th>\n",
       "      <th>chave</th>\n",
       "      <th>date</th>\n",
       "    </tr>\n",
       "  </thead>\n",
       "  <tbody>\n",
       "    <tr>\n",
       "      <th>0</th>\n",
       "      <td>10,380.05</td>\n",
       "      <td>44GROCERY I</td>\n",
       "      <td>2017-07-31</td>\n",
       "    </tr>\n",
       "    <tr>\n",
       "      <th>1</th>\n",
       "      <td>9,581.69</td>\n",
       "      <td>44GROCERY I</td>\n",
       "      <td>2017-08-01</td>\n",
       "    </tr>\n",
       "    <tr>\n",
       "      <th>2</th>\n",
       "      <td>9,553.21</td>\n",
       "      <td>44GROCERY I</td>\n",
       "      <td>2017-08-02</td>\n",
       "    </tr>\n",
       "    <tr>\n",
       "      <th>3</th>\n",
       "      <td>8,570.33</td>\n",
       "      <td>44GROCERY I</td>\n",
       "      <td>2017-08-03</td>\n",
       "    </tr>\n",
       "    <tr>\n",
       "      <th>4</th>\n",
       "      <td>10,041.37</td>\n",
       "      <td>44GROCERY I</td>\n",
       "      <td>2017-08-04</td>\n",
       "    </tr>\n",
       "    <tr>\n",
       "      <th>5</th>\n",
       "      <td>14,843.89</td>\n",
       "      <td>44GROCERY I</td>\n",
       "      <td>2017-08-05</td>\n",
       "    </tr>\n",
       "    <tr>\n",
       "      <th>6</th>\n",
       "      <td>15,501.89</td>\n",
       "      <td>44GROCERY I</td>\n",
       "      <td>2017-08-06</td>\n",
       "    </tr>\n",
       "    <tr>\n",
       "      <th>7</th>\n",
       "      <td>9,187.09</td>\n",
       "      <td>44GROCERY I</td>\n",
       "      <td>2017-08-07</td>\n",
       "    </tr>\n",
       "    <tr>\n",
       "      <th>8</th>\n",
       "      <td>8,139.55</td>\n",
       "      <td>44GROCERY I</td>\n",
       "      <td>2017-08-08</td>\n",
       "    </tr>\n",
       "    <tr>\n",
       "      <th>9</th>\n",
       "      <td>8,638.38</td>\n",
       "      <td>44GROCERY I</td>\n",
       "      <td>2017-08-09</td>\n",
       "    </tr>\n",
       "    <tr>\n",
       "      <th>10</th>\n",
       "      <td>8,504.50</td>\n",
       "      <td>44GROCERY I</td>\n",
       "      <td>2017-08-10</td>\n",
       "    </tr>\n",
       "    <tr>\n",
       "      <th>11</th>\n",
       "      <td>9,696.24</td>\n",
       "      <td>44GROCERY I</td>\n",
       "      <td>2017-08-11</td>\n",
       "    </tr>\n",
       "    <tr>\n",
       "      <th>12</th>\n",
       "      <td>15,037.37</td>\n",
       "      <td>44GROCERY I</td>\n",
       "      <td>2017-08-12</td>\n",
       "    </tr>\n",
       "    <tr>\n",
       "      <th>13</th>\n",
       "      <td>15,484.38</td>\n",
       "      <td>44GROCERY I</td>\n",
       "      <td>2017-08-13</td>\n",
       "    </tr>\n",
       "    <tr>\n",
       "      <th>14</th>\n",
       "      <td>10,005.21</td>\n",
       "      <td>44GROCERY I</td>\n",
       "      <td>2017-08-14</td>\n",
       "    </tr>\n",
       "    <tr>\n",
       "      <th>15</th>\n",
       "      <td>8,794.53</td>\n",
       "      <td>44GROCERY I</td>\n",
       "      <td>2017-08-15</td>\n",
       "    </tr>\n",
       "  </tbody>\n",
       "</table>\n",
       "</div>"
      ],
      "text/plain": [
       "       sales        chave       date\n",
       "0  10,380.05  44GROCERY I 2017-07-31\n",
       "1   9,581.69  44GROCERY I 2017-08-01\n",
       "2   9,553.21  44GROCERY I 2017-08-02\n",
       "3   8,570.33  44GROCERY I 2017-08-03\n",
       "4  10,041.37  44GROCERY I 2017-08-04\n",
       "5  14,843.89  44GROCERY I 2017-08-05\n",
       "6  15,501.89  44GROCERY I 2017-08-06\n",
       "7   9,187.09  44GROCERY I 2017-08-07\n",
       "8   8,139.55  44GROCERY I 2017-08-08\n",
       "9   8,638.38  44GROCERY I 2017-08-09\n",
       "10  8,504.50  44GROCERY I 2017-08-10\n",
       "11  9,696.24  44GROCERY I 2017-08-11\n",
       "12 15,037.37  44GROCERY I 2017-08-12\n",
       "13 15,484.38  44GROCERY I 2017-08-13\n",
       "14 10,005.21  44GROCERY I 2017-08-14\n",
       "15  8,794.53  44GROCERY I 2017-08-15"
      ]
     },
     "execution_count": 116,
     "metadata": {},
     "output_type": "execute_result"
    }
   ],
   "source": [
    "df_y_pred[df_y_pred['chave'] == '44GROCERY I']"
   ]
  },
  {
   "cell_type": "code",
   "execution_count": 117,
   "id": "eabeff49-d02e-40de-ba86-ea18ee48420b",
   "metadata": {},
   "outputs": [
    {
     "data": {
      "text/plain": [
       "array([10380.054,  9581.691,  9553.21 ,  8570.327, 10041.371, 14843.89 ,\n",
       "       15501.893,  9187.094,  8139.554,  8638.377,  8504.499,  9696.243,\n",
       "       15037.367, 15484.383, 10005.206,  8794.534], dtype=float32)"
      ]
     },
     "execution_count": 117,
     "metadata": {},
     "output_type": "execute_result"
    }
   ],
   "source": [
    "best_model_y_pred[16,:]"
   ]
  },
  {
   "cell_type": "code",
   "execution_count": 118,
   "id": "61f9e051-32f4-43e9-bbaa-9952957474d9",
   "metadata": {},
   "outputs": [
    {
     "data": {
      "text/plain": [
       "array([ 9934., 10941., 11156.,  8419.,  9346., 12463., 13248.,  8497.,\n",
       "        8201.,  8062.,  7097.,  9979.,  9391.,  9811.,  8318.,  8123.])"
      ]
     },
     "execution_count": 118,
     "metadata": {},
     "output_type": "execute_result"
    }
   ],
   "source": [
    "y_test_original[16,:]"
   ]
  },
  {
   "cell_type": "code",
   "execution_count": 119,
   "id": "b029560a-fcac-472c-8b01-04a1c1ffcc70",
   "metadata": {},
   "outputs": [
    {
     "data": {
      "text/plain": [
       "17"
      ]
     },
     "execution_count": 119,
     "metadata": {},
     "output_type": "execute_result"
    }
   ],
   "source": [
    "end_seq = len(test_features) - WINDOW_SIZE - TARGET_DAYS + 1\n",
    "end_seq"
   ]
  },
  {
   "cell_type": "code",
   "execution_count": 121,
   "id": "0778e644-3b3f-40f4-bb5b-0e32042bf6bb",
   "metadata": {},
   "outputs": [
    {
     "data": {
      "text/html": [
       "<div>\n",
       "<style scoped>\n",
       "    .dataframe tbody tr th:only-of-type {\n",
       "        vertical-align: middle;\n",
       "    }\n",
       "\n",
       "    .dataframe tbody tr th {\n",
       "        vertical-align: top;\n",
       "    }\n",
       "\n",
       "    .dataframe thead th {\n",
       "        text-align: right;\n",
       "    }\n",
       "</style>\n",
       "<table border=\"1\" class=\"dataframe\">\n",
       "  <thead>\n",
       "    <tr style=\"text-align: right;\">\n",
       "      <th></th>\n",
       "      <th>date</th>\n",
       "      <th>sales</th>\n",
       "    </tr>\n",
       "  </thead>\n",
       "  <tbody>\n",
       "    <tr>\n",
       "      <th>2973642</th>\n",
       "      <td>2017-07-31</td>\n",
       "      <td>9,934.00</td>\n",
       "    </tr>\n",
       "    <tr>\n",
       "      <th>2975424</th>\n",
       "      <td>2017-08-01</td>\n",
       "      <td>10,941.00</td>\n",
       "    </tr>\n",
       "    <tr>\n",
       "      <th>2977206</th>\n",
       "      <td>2017-08-02</td>\n",
       "      <td>11,156.00</td>\n",
       "    </tr>\n",
       "    <tr>\n",
       "      <th>2978988</th>\n",
       "      <td>2017-08-03</td>\n",
       "      <td>8,419.00</td>\n",
       "    </tr>\n",
       "    <tr>\n",
       "      <th>2980770</th>\n",
       "      <td>2017-08-04</td>\n",
       "      <td>9,346.00</td>\n",
       "    </tr>\n",
       "    <tr>\n",
       "      <th>2982552</th>\n",
       "      <td>2017-08-05</td>\n",
       "      <td>12,463.00</td>\n",
       "    </tr>\n",
       "    <tr>\n",
       "      <th>2984334</th>\n",
       "      <td>2017-08-06</td>\n",
       "      <td>13,248.00</td>\n",
       "    </tr>\n",
       "    <tr>\n",
       "      <th>2986116</th>\n",
       "      <td>2017-08-07</td>\n",
       "      <td>8,497.00</td>\n",
       "    </tr>\n",
       "    <tr>\n",
       "      <th>2987898</th>\n",
       "      <td>2017-08-08</td>\n",
       "      <td>8,201.00</td>\n",
       "    </tr>\n",
       "    <tr>\n",
       "      <th>2989680</th>\n",
       "      <td>2017-08-09</td>\n",
       "      <td>8,062.00</td>\n",
       "    </tr>\n",
       "    <tr>\n",
       "      <th>2991462</th>\n",
       "      <td>2017-08-10</td>\n",
       "      <td>7,097.00</td>\n",
       "    </tr>\n",
       "    <tr>\n",
       "      <th>2993244</th>\n",
       "      <td>2017-08-11</td>\n",
       "      <td>9,979.00</td>\n",
       "    </tr>\n",
       "    <tr>\n",
       "      <th>2995026</th>\n",
       "      <td>2017-08-12</td>\n",
       "      <td>9,391.00</td>\n",
       "    </tr>\n",
       "    <tr>\n",
       "      <th>2996808</th>\n",
       "      <td>2017-08-13</td>\n",
       "      <td>9,811.00</td>\n",
       "    </tr>\n",
       "    <tr>\n",
       "      <th>2998590</th>\n",
       "      <td>2017-08-14</td>\n",
       "      <td>8,318.00</td>\n",
       "    </tr>\n",
       "    <tr>\n",
       "      <th>3000372</th>\n",
       "      <td>2017-08-15</td>\n",
       "      <td>8,123.00</td>\n",
       "    </tr>\n",
       "  </tbody>\n",
       "</table>\n",
       "</div>"
      ],
      "text/plain": [
       "               date     sales\n",
       "2973642  2017-07-31  9,934.00\n",
       "2975424  2017-08-01 10,941.00\n",
       "2977206  2017-08-02 11,156.00\n",
       "2978988  2017-08-03  8,419.00\n",
       "2980770  2017-08-04  9,346.00\n",
       "2982552  2017-08-05 12,463.00\n",
       "2984334  2017-08-06 13,248.00\n",
       "2986116  2017-08-07  8,497.00\n",
       "2987898  2017-08-08  8,201.00\n",
       "2989680  2017-08-09  8,062.00\n",
       "2991462  2017-08-10  7,097.00\n",
       "2993244  2017-08-11  9,979.00\n",
       "2995026  2017-08-12  9,391.00\n",
       "2996808  2017-08-13  9,811.00\n",
       "2998590  2017-08-14  8,318.00\n",
       "3000372  2017-08-15  8,123.00"
      ]
     },
     "execution_count": 121,
     "metadata": {},
     "output_type": "execute_result"
    }
   ],
   "source": [
    "_ = pd.read_csv('raw_data/train.csv')\n",
    "aux = _[(_['store_nbr'] == 44) & (_['family']=='GROCERY I')]\n",
    "aux.iloc[-16:][['date', 'sales']]"
   ]
  },
  {
   "cell_type": "code",
   "execution_count": 145,
   "id": "4dffab6b-0660-483f-8a02-2ed79d67b79e",
   "metadata": {},
   "outputs": [
    {
     "name": "stdout",
     "output_type": "stream",
     "text": [
      "RMSLE na escala original: 0.20\n"
     ]
    }
   ],
   "source": [
    "rmsle_m4 = np.sqrt(mean_squared_log_error(np.array(df_y_test[df_y_test['chave'] == '44GROCERY I']['sales']), np.array(df_y_pred[df_y_pred['chave'] == '44GROCERY I']['sales'])))\n",
    "print(f\"RMSLE na escala original: {rmsle_m4:.2f}\")"
   ]
  },
  {
   "cell_type": "code",
   "execution_count": null,
   "id": "eb524376-2be1-40d4-8836-e39f864c9186",
   "metadata": {},
   "outputs": [],
   "source": []
  }
 ],
 "metadata": {
  "accelerator": "GPU",
  "colab": {
   "gpuType": "T4",
   "provenance": []
  },
  "kernelspec": {
   "display_name": "Python 3 (ipykernel)",
   "language": "python",
   "name": "python3"
  },
  "language_info": {
   "codemirror_mode": {
    "name": "ipython",
    "version": 3
   },
   "file_extension": ".py",
   "mimetype": "text/x-python",
   "name": "python",
   "nbconvert_exporter": "python",
   "pygments_lexer": "ipython3",
   "version": "3.10.6"
  },
  "toc": {
   "base_numbering": 1,
   "nav_menu": {},
   "number_sections": true,
   "sideBar": true,
   "skip_h1_title": false,
   "title_cell": "Table of Contents",
   "title_sidebar": "Contents",
   "toc_cell": false,
   "toc_position": {},
   "toc_section_display": true,
   "toc_window_display": false
  }
 },
 "nbformat": 4,
 "nbformat_minor": 5
}
